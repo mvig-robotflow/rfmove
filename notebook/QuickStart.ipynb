{
 "cells": [
  {
   "cell_type": "markdown",
   "id": "6d06429d",
   "metadata": {},
   "source": [
    "# RFMove Quick Start"
   ]
  },
  {
   "cell_type": "code",
   "execution_count": null,
   "id": "124b48c1",
   "metadata": {},
   "outputs": [],
   "source": [
    "import pybullet\n",
    "import sys\n",
    "# You do not need to append \"../install/lib\" on search path\n",
    "# if moveit_noros shared library has been installed in to your \n",
    "# python site-packages directory.\n",
    "# sys.path.append(\"../install/lib\")\n",
    "import moveit_noros as moveit\n",
    "import pybullet_data\n",
    "import time\n",
    "import numpy as np\n",
    "import threading"
   ]
  },
  {
   "cell_type": "markdown",
   "id": "e701481f",
   "metadata": {},
   "source": [
    "## Initialize Pybullet\n",
    "We use [pybullet](https://github.com/bulletphysics/bullet3) as our test environment. Please refer to [pybullet quickstart guide](https://docs.google.com/document/d/10sXEhzFRSnvFcl3XxNGhnD4N2SedqwdAvK3dsihxVUA/edit) for the usage of pybullet."
   ]
  },
  {
   "cell_type": "code",
   "execution_count": null,
   "id": "a1bd5bbb",
   "metadata": {},
   "outputs": [],
   "source": [
    "pybullet.connect(pybullet.GUI)\n",
    "pybullet.setRealTimeSimulation(1)\n",
    "pybullet.setGravity(0,0,-10)"
   ]
  },
  {
   "cell_type": "markdown",
   "id": "e2d596d8",
   "metadata": {},
   "source": [
    "### Load Robot Into Pybullet"
   ]
  },
  {
   "cell_type": "code",
   "execution_count": null,
   "id": "9a234877",
   "metadata": {},
   "outputs": [],
   "source": [
    "pybullet.setAdditionalSearchPath(pybullet_data.getDataPath())\n",
    "planeId = pybullet.loadURDF(\"plane.urdf\")\n",
    "\n",
    "pybullet.setAdditionalSearchPath(\"../resources\")\n",
    "startPos = [0,0,0]\n",
    "startOrientation = pybullet.getQuaternionFromEuler([0, 0, 0])\n",
    "robot_id = pybullet.loadURDF(\"pr2.urdf\", startPos, startOrientation, useFixedBase=1)"
   ]
  },
  {
   "cell_type": "markdown",
   "id": "58262452",
   "metadata": {},
   "source": [
    "## Initialize Moveit\n",
    "### Load Robot Into Moveit\n",
    "First we need to create a RobotModelLoader through `createRobotModelLoaderFromFile`. RobotModelLoader maintains `RobotModel` and provide shared pointers as views of it. It can also used to generate `RobotState` and `PlanningScene`."
   ]
  },
  {
   "cell_type": "code",
   "execution_count": null,
   "id": "7be7a7b8",
   "metadata": {},
   "outputs": [],
   "source": [
    "robot_loader = moveit.createRobotModelLoaderFromFile(\"../resources/pr2.urdf\", \"../resources/pr2_config/pr2.srdf\")"
   ]
  },
  {
   "cell_type": "markdown",
   "id": "bdd22132",
   "metadata": {},
   "source": [
    "Then we need to load several configurations into RobotModelLoader including\n",
    "- JointLimits: Configuration for robot limitations such as position and velocity bounds. It can be loader through `RobotModelLoader.loadJointLimits(JointLimitsLoader)`\n",
    "- Kinematics configuration: Configuration for kinematics solvers. It can be loaded through `RobotModelLoader.loadKinematicsSolvers(KinematicsLoader)`\n",
    "- Planner configuration: Configuration for motion planner. PlannerConfiguration works as a parameter when create planner."
   ]
  },
  {
   "cell_type": "code",
   "execution_count": null,
   "id": "3173ff95",
   "metadata": {},
   "outputs": [],
   "source": [
    "joint_limits_loader = moveit.createJointLimitsLoaderFromFile(\"../resources/pr2_config/joint_limits.yaml\")\n",
    "robot_loader.loadJointLimits(joint_limits_loader)\n",
    "\n",
    "kinematic_solver_loader = moveit.createKinematicsLoaderFromFile(\"../resources/pr2_config/kinematics.yaml\")\n",
    "robot_loader.loadKinematicsSolvers(kinematic_solver_loader)\n",
    "\n",
    "planner_config = moveit.createPlannerConfigurationFromFile(\"../resources/pr2_config/ompl_planning.yaml\")"
   ]
  },
  {
   "cell_type": "markdown",
   "id": "9744f76e",
   "metadata": {},
   "source": [
    "### Create Planner and PlanningScene\n",
    "Planner is the motion planning solver. PlanningScene matains the robot and world info."
   ]
  },
  {
   "cell_type": "code",
   "execution_count": null,
   "id": "c0aba5f0",
   "metadata": {},
   "outputs": [],
   "source": [
    "robot_model = robot_loader.getModel()\n",
    "planner = moveit.PlannerManager(robot_model, planner_config)\n",
    "planning_scene = robot_loader.newPlanningScene()"
   ]
  },
  {
   "cell_type": "markdown",
   "id": "9ac39af9",
   "metadata": {},
   "source": [
    "### Create Pybullet Hardware Accessor\n",
    "Robot controller is implemented within our moveit_noros shared library. The controller can be used to control different hardwares as long as the hardware has implemented the common `HardwareInterface`.\n",
    "\n",
    "When it comes to pybullet, we also treat it as a hardware and implement `PybulletHardware` inherited from `HardwareInterface`. However, the implementation is very intuitively which accesses the pybullet python methods directly.\n",
    "\n",
    "In order to create a PybulletHardware, we need to provide pybullet python module directly together with the bullet3 bodyUniqueId of robot, which is the return value of `pybullet.loadURDF`."
   ]
  },
  {
   "cell_type": "code",
   "execution_count": null,
   "id": "3e66174a",
   "metadata": {},
   "outputs": [],
   "source": [
    "bullet_hardware = moveit.PybulletHardware(pybullet, robot_id)"
   ]
  },
  {
   "cell_type": "markdown",
   "id": "e1922c63",
   "metadata": {},
   "source": [
    "### Create PlanningSceneHelper\n",
    "PlanningSceneHelper has the following functionality:\n",
    "- Synchronize robot state between moveit planning scene and simulated / real robot hardware.\n",
    "- Synchronize world information between moveit planning scene and simulated / real world."
   ]
  },
  {
   "cell_type": "code",
   "execution_count": null,
   "id": "676abdb9",
   "metadata": {},
   "outputs": [],
   "source": [
    "scene_helper = moveit.PlanningSceneHelper(bullet_hardware, planning_scene)"
   ]
  },
  {
   "cell_type": "markdown",
   "id": "9b2f263e",
   "metadata": {},
   "source": [
    "PlanningSceneHelper provides two different robot state synchronization method\n",
    "- `sync()`: Change the robot state within moveit PlanningScene the same as pybullet hardware.\n",
    "- `resync()`: Change the robot state (joint position only) within pybullet the same as PlanningScene current robot state.\n",
    "\n",
    "The first thing we need to do after creation of PlanningSceneHelper is call `PlanningSceneHelper.reset()` which does two important setting\n",
    "- Set the current robot state within PlanningScene as default state.\n",
    "- Set all joint positions within pybullet the same as PlanningScene, call `resync()` in other words."
   ]
  },
  {
   "cell_type": "code",
   "execution_count": null,
   "id": "ec6c7694",
   "metadata": {},
   "outputs": [],
   "source": [
    "scene_helper.reset()"
   ]
  },
  {
   "cell_type": "markdown",
   "id": "18536451",
   "metadata": {},
   "source": [
    "However, you may find out that the robot in pybullet GUI is non draggable after the calling of `PlanningSceneHelper.reset()` or `resync()`. That is because giant force is applied on every robot joint. You can call `PybulletHardware.free()` to make it draggable again.\n",
    "\n",
    "If you still can not drag the robot link through your mouse, try to press `ALT` or `CTRL`."
   ]
  },
  {
   "cell_type": "code",
   "execution_count": null,
   "id": "3f6ee22d",
   "metadata": {},
   "outputs": [],
   "source": [
    "bullet_hardware.free()"
   ]
  },
  {
   "cell_type": "markdown",
   "id": "d4907380",
   "metadata": {},
   "source": [
    "`free()` can also have one parameter which specify the force value applied on each joint. You can try to give it a small value (default is 200)."
   ]
  },
  {
   "cell_type": "code",
   "execution_count": null,
   "id": "806d3d6f",
   "metadata": {},
   "outputs": [],
   "source": [
    "bullet_hardware.free(1)"
   ]
  },
  {
   "cell_type": "code",
   "execution_count": null,
   "id": "95559a6e",
   "metadata": {},
   "outputs": [],
   "source": [
    "scene_helper.reset()"
   ]
  },
  {
   "cell_type": "markdown",
   "id": "cb5c5cfc",
   "metadata": {},
   "source": [
    "## Solve Inverse Kinematics\n",
    "Inverse kinematics means to calculate the position of each joint according to the position of tip link. Solving IK does not need any planner or planning scene. It can be done through `RobotState.setFromIK()` directly.\n",
    "\n",
    "In order to test IK solving, we need to specify the JointModelGroup we calculate for. JointModelGroup is the basic unit to do kinematics calculation and motion planning. It is defined within the moveit `srdf` file."
   ]
  },
  {
   "cell_type": "code",
   "execution_count": null,
   "id": "cd488e96",
   "metadata": {},
   "outputs": [],
   "source": [
    "PLANNING_GROUP = \"left_arm\"\n",
    "joint_model_group = robot_model.getJointModelGroup(PLANNING_GROUP)\n",
    "\n",
    "base_link = joint_model_group.base_link\n",
    "tip_link = joint_model_group.tip_link\n",
    "print(\"joint model group:\\t%s\" % joint_model_group)\n",
    "print(\"base link:\\t %s\" % base_link)\n",
    "print(\"tip link:\\t %s\" % tip_link)"
   ]
  },
  {
   "cell_type": "markdown",
   "id": "5215f7f7",
   "metadata": {},
   "source": [
    "Any robot state can be used to compute IK. Here we use two different robot state:\n",
    "- One random state, which generates valid random robot position.\n",
    "- One control state. We use the tip link position generated by random state as input, set the control state by IK solving."
   ]
  },
  {
   "cell_type": "code",
   "execution_count": null,
   "id": "dd46c6d5",
   "metadata": {},
   "outputs": [],
   "source": [
    "random_state = robot_loader.newRobotState()\n",
    "control_state = robot_loader.newRobotState()\n",
    "random_state.setToDefaultValues()\n",
    "control_state.setToDefaultValues()"
   ]
  },
  {
   "cell_type": "markdown",
   "id": "a8513ae3",
   "metadata": {},
   "source": [
    "We first set random_state to a valid random position and fetch its tip link transform. However, here we only want to solve IK for `left_arm`, so we use joint_model_group as one parameter. `RobotState.setToRandomPositions()` can also take no parameter which means set all joints to a random position.\n",
    "\n",
    "**Note:** Transformation here is represented through Eigen Affine Matrix."
   ]
  },
  {
   "cell_type": "code",
   "execution_count": null,
   "id": "c2f9a6c9",
   "metadata": {},
   "outputs": [],
   "source": [
    "random_state.setToRandomPositions(joint_model_group)\n",
    "tip_transform = random_state.getGlobalLinkTransform(tip_link)\n",
    "print(tip_transform.__repr__())"
   ]
  },
  {
   "cell_type": "markdown",
   "id": "cba99395",
   "metadata": {},
   "source": [
    "Now we set control state through IK solving."
   ]
  },
  {
   "cell_type": "code",
   "execution_count": null,
   "id": "5cc57d0c",
   "metadata": {},
   "outputs": [],
   "source": [
    "success = control_state.setFromIK(joint_model_group, tip_transform)\n",
    "print(\"IK FOUND\" if success else \"CAN NOT FIND IK\")"
   ]
  },
  {
   "cell_type": "markdown",
   "id": "943ded5b",
   "metadata": {},
   "source": [
    "We can visualize the IK solution by control pybullet model move to control_state. Here we use `JointModelGroup.getJointModelNames()` to fetch the name of all joints. And use `PybulletHardware.getJointIndex(joint_name)` to fetch the joint index of specific joint within pybullet."
   ]
  },
  {
   "cell_type": "code",
   "execution_count": null,
   "id": "cc9611f7",
   "metadata": {},
   "outputs": [],
   "source": [
    "for joint_name in joint_model_group.getJointModelNames():\n",
    "    joint_index = bullet_hardware.getJointIndex(joint_name)\n",
    "    if joint_index > 0:\n",
    "        pybullet.setJointMotorControl2(robot_id, \n",
    "                                       joint_index, \n",
    "                                       pybullet.POSITION_CONTROL, \n",
    "                                       targetPosition = control_state.getJointPosition(joint_name),\n",
    "                                       maxVelocity = 3)\n",
    "    else:\n",
    "        print(\"Can not find joint \" + joint_name)"
   ]
  },
  {
   "cell_type": "markdown",
   "id": "fd6a1173",
   "metadata": {},
   "source": [
    "Here we use a small thread to repeat the above process."
   ]
  },
  {
   "cell_type": "code",
   "execution_count": null,
   "id": "8229d83a",
   "metadata": {},
   "outputs": [],
   "source": [
    "class randomIK(threading.Thread):\n",
    "    def __init__(self):\n",
    "        self.stop = False\n",
    "        threading.Thread.__init__(self)\n",
    "    def run(self):\n",
    "        while True:\n",
    "            random_state.setToRandomPositions(joint_model_group)\n",
    "            tip_transform = random_state.getGlobalLinkTransform(tip_link)\n",
    "            if(control_state.setFromIK(joint_model_group, tip_transform)):\n",
    "                for joint_name in joint_model_group.getJointModelNames():\n",
    "                    joint_index = bullet_hardware.getJointIndex(joint_name)\n",
    "                    if joint_index > 0:\n",
    "                        pybullet.setJointMotorControl2(robot_id, \n",
    "                                                       joint_index, \n",
    "                                                       pybullet.POSITION_CONTROL, \n",
    "                                                       targetPosition = control_state.getJointPosition(joint_name),\n",
    "                                                       maxVelocity = 3)\n",
    "                    else:\n",
    "                        print(\"Can not find joint \" + joint_name)\n",
    "            if self.stop:\n",
    "                break\n",
    "            time.sleep(2)\n",
    "        print(\"Thread end\")"
   ]
  },
  {
   "cell_type": "code",
   "execution_count": null,
   "id": "bc590860",
   "metadata": {},
   "outputs": [],
   "source": [
    "randomIK_thread = randomIK()\n",
    "randomIK_thread.start()"
   ]
  },
  {
   "cell_type": "code",
   "execution_count": null,
   "id": "4c82ce2c",
   "metadata": {},
   "outputs": [],
   "source": [
    "randomIK_thread.stop = True\n",
    "scene_helper.reset()"
   ]
  },
  {
   "cell_type": "markdown",
   "id": "23afe547",
   "metadata": {},
   "source": [
    "## Pose Goal Motion Plan\n",
    "The most motion plan task is move the robot to a specific pose. Here we use planner to set the tip link of joint_model_goup to specific pose. This may sounds same as inverse kinematics. But we can get a whole moveing trajectory with the help of planner.\n",
    "\n",
    "Remember that we have created our planner and planning scene before."
   ]
  },
  {
   "cell_type": "code",
   "execution_count": null,
   "id": "56e5fb34",
   "metadata": {},
   "outputs": [],
   "source": [
    "print(planner.__repr__())\n",
    "print(planning_scene.__repr__())\n",
    "print(scene_helper.__repr__())"
   ]
  },
  {
   "cell_type": "markdown",
   "id": "f1144923",
   "metadata": {},
   "source": [
    "We still use random_state to generate a random tip_link transform."
   ]
  },
  {
   "cell_type": "code",
   "execution_count": null,
   "id": "7513a640",
   "metadata": {},
   "outputs": [],
   "source": [
    "random_state.setToRandomPositions(joint_model_group)\n",
    "tip_transform = random_state.getGlobalLinkTransform(tip_link)\n",
    "print(tip_transform.__repr__())"
   ]
  },
  {
   "cell_type": "markdown",
   "id": "65891450",
   "metadata": {},
   "source": [
    "In order to do a motion plan, we need to construct a MotionPlanRequest. The definition of MotionPlanRequest is from [ros-planning/moveit_msgs/msg/MotionPlanRequest.msg](https://github.com/ros-planning/moveit_msgs/blob/kinetic-devel/msg/MotionPlanRequest.msg).\n",
    "\n",
    "We first create a stamped pose for tip link. `PoseStamped` need to specify the corresponding frame. All transforms fetched directly from `RobotState` is according to robot root frame. Here we want to use the joint model group base frame instead of the robot root frame. In that case, we need to compute the relative transform of tip_link according to the group base frame.\n",
    "\n",
    "`RobotState.linkRelativeTransform()` can calculate the relative transform of link according to specific frame.\n",
    "\n",
    "When creating PoseStamped, the rotation should be in quaternion form."
   ]
  },
  {
   "cell_type": "code",
   "execution_count": null,
   "id": "a8c7af17",
   "metadata": {},
   "outputs": [],
   "source": [
    "base_frame = joint_model_group.base_frame\n",
    "relative_transform = random_state.linkRelativeTransform(tip_link, base_frame)\n",
    "print(relative_transform)\n",
    "pose = moveit.PoseStamped(base_frame, relative_transform.translation, relative_transform.quaternion.value)"
   ]
  },
  {
   "cell_type": "markdown",
   "id": "7690a5c0",
   "metadata": {},
   "source": [
    "Create MotionPlanRequest and add a pose goal."
   ]
  },
  {
   "cell_type": "code",
   "execution_count": null,
   "id": "08b89df4",
   "metadata": {},
   "outputs": [],
   "source": [
    "req = moveit.MotionPlanRequest(PLANNING_GROUP)\n",
    "pose_goal = moveit.constructGoalConstraints(tip_link, pose, 0.01, 0.01)\n",
    "req.addGoal(pose_goal)"
   ]
  },
  {
   "cell_type": "markdown",
   "id": "6806f7e9",
   "metadata": {},
   "source": [
    "Create planning context for this request."
   ]
  },
  {
   "cell_type": "code",
   "execution_count": null,
   "id": "585d5b66",
   "metadata": {},
   "outputs": [],
   "source": [
    "context = planner.getPlanningContext(planning_scene, req)"
   ]
  },
  {
   "cell_type": "markdown",
   "id": "3c09062e",
   "metadata": {},
   "source": [
    "Solve motion plan task."
   ]
  },
  {
   "cell_type": "code",
   "execution_count": null,
   "id": "c89d1b13",
   "metadata": {},
   "outputs": [],
   "source": [
    "response = context.solve()"
   ]
  },
  {
   "cell_type": "code",
   "execution_count": null,
   "id": "dccd2362",
   "metadata": {},
   "outputs": [],
   "source": [
    "response.trajectory"
   ]
  },
  {
   "cell_type": "code",
   "execution_count": null,
   "id": "e2efb9a4",
   "metadata": {},
   "outputs": [],
   "source": [
    "bullet_controller = moveit.Controller(bullet_hardware, 0.01)"
   ]
  },
  {
   "cell_type": "code",
   "execution_count": null,
   "id": "a3663345",
   "metadata": {},
   "outputs": [],
   "source": [
    "scene_helper.sync()"
   ]
  },
  {
   "cell_type": "code",
   "execution_count": null,
   "id": "14914ae8",
   "metadata": {},
   "outputs": [],
   "source": [
    "bullet_hardware.free()"
   ]
  },
  {
   "cell_type": "code",
   "execution_count": null,
   "id": "22882109",
   "metadata": {},
   "outputs": [],
   "source": [
    "bullet_hardware.stayCurrent()"
   ]
  },
  {
   "cell_type": "code",
   "execution_count": null,
   "id": "237cf4b0",
   "metadata": {},
   "outputs": [],
   "source": [
    "req"
   ]
  },
  {
   "cell_type": "code",
   "execution_count": null,
   "id": "9208124f",
   "metadata": {},
   "outputs": [],
   "source": [
    "relative_transform"
   ]
  },
  {
   "cell_type": "code",
   "execution_count": null,
   "id": "8e7aa690",
   "metadata": {},
   "outputs": [],
   "source": [
    "base_transform.inverse * link_transform"
   ]
  },
  {
   "cell_type": "code",
   "execution_count": null,
   "id": "f7b2dd51",
   "metadata": {},
   "outputs": [],
   "source": []
  },
  {
   "cell_type": "code",
   "execution_count": null,
   "id": "7e31f282",
   "metadata": {},
   "outputs": [],
   "source": [
    "\n"
   ]
  },
  {
   "cell_type": "code",
   "execution_count": null,
   "id": "fb7ce822",
   "metadata": {},
   "outputs": [],
   "source": [
    "response = context.solve()\n"
   ]
  },
  {
   "cell_type": "code",
   "execution_count": null,
   "id": "e489e92a",
   "metadata": {},
   "outputs": [],
   "source": [
    "response.trajectory"
   ]
  },
  {
   "cell_type": "code",
   "execution_count": null,
   "id": "6637cf0d",
   "metadata": {},
   "outputs": [],
   "source": [
    "for i in range(len(spline.tip_transforms)-1):\n",
    "    p.addUserDebugLine(spline.tip_transforms[i].translation, spline.tip_transforms[i+1].translation)"
   ]
  },
  {
   "cell_type": "code",
   "execution_count": null,
   "id": "cd70e716",
   "metadata": {},
   "outputs": [],
   "source": []
  },
  {
   "cell_type": "code",
   "execution_count": null,
   "id": "1fdaed85",
   "metadata": {},
   "outputs": [],
   "source": []
  },
  {
   "cell_type": "code",
   "execution_count": null,
   "id": "4f929551",
   "metadata": {},
   "outputs": [],
   "source": [
    "p.addUserDebugLine(np.array([0.629203, 0.142431, 0.705641]), np.array([0.562863, 0.367344, 1.18433]), [1,0,0], 5)"
   ]
  },
  {
   "cell_type": "code",
   "execution_count": null,
   "id": "b67c82d2",
   "metadata": {},
   "outputs": [],
   "source": [
    "transform"
   ]
  },
  {
   "cell_type": "code",
   "execution_count": null,
   "id": "9aa82bc9",
   "metadata": {},
   "outputs": [],
   "source": [
    "transform.quaternion"
   ]
  },
  {
   "cell_type": "code",
   "execution_count": null,
   "id": "e3b18955",
   "metadata": {},
   "outputs": [],
   "source": [
    "transform.quaternion.value"
   ]
  },
  {
   "cell_type": "code",
   "execution_count": null,
   "id": "0bd9b4fb",
   "metadata": {},
   "outputs": [],
   "source": [
    "transform.quaternion.matrix"
   ]
  },
  {
   "cell_type": "code",
   "execution_count": null,
   "id": "67c5e51e",
   "metadata": {},
   "outputs": [],
   "source": [
    "base_frame"
   ]
  },
  {
   "cell_type": "code",
   "execution_count": null,
   "id": "7dcd6f6f",
   "metadata": {},
   "outputs": [],
   "source": [
    "transform.quaternion[0]"
   ]
  },
  {
   "cell_type": "code",
   "execution_count": null,
   "id": "bfb6043a",
   "metadata": {},
   "outputs": [],
   "source": []
  },
  {
   "cell_type": "code",
   "execution_count": null,
   "id": "4e91a3b8",
   "metadata": {},
   "outputs": [],
   "source": [
    "robot_model.getJointModelGroup"
   ]
  },
  {
   "cell_type": "code",
   "execution_count": null,
   "id": "59f842ac",
   "metadata": {},
   "outputs": [],
   "source": [
    "moveit.createKinematicsLoaderFromFile"
   ]
  },
  {
   "cell_type": "code",
   "execution_count": null,
   "id": "b1f87c96",
   "metadata": {},
   "outputs": [],
   "source": []
  }
 ],
 "metadata": {
  "kernelspec": {
   "display_name": "Python 3",
   "language": "python",
   "name": "python3"
  },
  "language_info": {
   "codemirror_mode": {
    "name": "ipython",
    "version": 3
   },
   "file_extension": ".py",
   "mimetype": "text/x-python",
   "name": "python",
   "nbconvert_exporter": "python",
   "pygments_lexer": "ipython3",
   "version": "3.8.10"
  }
 },
 "nbformat": 4,
 "nbformat_minor": 5
}
