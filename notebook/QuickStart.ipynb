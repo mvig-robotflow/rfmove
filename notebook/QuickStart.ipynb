{
 "cells": [
  {
   "cell_type": "markdown",
   "id": "415848f1",
   "metadata": {},
   "source": [
    "# RFMove Quick Start"
   ]
  },
  {
   "cell_type": "code",
   "execution_count": 1,
   "id": "0f39cda3",
   "metadata": {},
   "outputs": [],
   "source": [
    "import pybullet\n",
    "import sys\n",
    "# You do not need to append \"../install/lib\" on search path\n",
    "# if moveit_noros shared library has been installed in to your \n",
    "# python site-packages directory.\n",
    "# sys.path.append(\"../install/lib\")\n",
    "import moveit_noros as moveit\n",
    "import pybullet_data\n",
    "import time\n",
    "import numpy as np\n",
    "import threading\n",
    "import matplotlib.pyplot as plt"
   ]
  },
  {
   "cell_type": "markdown",
   "id": "e701481f",
   "metadata": {},
   "source": [
    "## Initialize Pybullet\n",
    "We use [pybullet](https://github.com/bulletphysics/bullet3) as our test environment. Please refer to [pybullet quickstart guide](https://docs.google.com/document/d/10sXEhzFRSnvFcl3XxNGhnD4N2SedqwdAvK3dsihxVUA/edit) for the usage of pybullet."
   ]
  },
  {
   "cell_type": "code",
   "execution_count": 2,
   "id": "a1bd5bbb",
   "metadata": {},
   "outputs": [],
   "source": [
    "pybullet.connect(pybullet.GUI)\n",
    "pybullet.setRealTimeSimulation(1)\n",
    "pybullet.setGravity(0,0,-10)"
   ]
  },
  {
   "cell_type": "markdown",
   "id": "e2d596d8",
   "metadata": {},
   "source": [
    "### Load Robot Into Pybullet"
   ]
  },
  {
   "cell_type": "code",
   "execution_count": 3,
   "id": "9a234877",
   "metadata": {},
   "outputs": [],
   "source": [
    "pybullet.setAdditionalSearchPath(pybullet_data.getDataPath())\n",
    "planeId = pybullet.loadURDF(\"plane.urdf\")\n",
    "\n",
    "pybullet.setAdditionalSearchPath(\"../resources\")\n",
    "startPos = [0,0,0]\n",
    "startOrientation = pybullet.getQuaternionFromEuler([0, 0, 0])\n",
    "robot_id = pybullet.loadURDF(\"pr2.urdf\", startPos, startOrientation, useFixedBase=1)"
   ]
  },
  {
   "cell_type": "markdown",
   "id": "58262452",
   "metadata": {},
   "source": [
    "## Initialize Moveit\n",
    "### Load Robot Into Moveit\n",
    "First we need to create a RobotModelLoader through `createRobotModelLoaderFromFile`. RobotModelLoader maintains `RobotModel` and provide shared pointers as views of it. It can also used to generate `RobotState` and `PlanningScene`."
   ]
  },
  {
   "cell_type": "code",
   "execution_count": 4,
   "id": "7be7a7b8",
   "metadata": {},
   "outputs": [],
   "source": [
    "robot_loader = moveit.createRobotModelLoaderFromFile(\"../resources/pr2.urdf\", \"../resources/pr2_config/pr2.srdf\")"
   ]
  },
  {
   "cell_type": "markdown",
   "id": "ca48eec1",
   "metadata": {},
   "source": [
    "Then we need to load several configurations into RobotModelLoader including\n",
    "- JointLimits: Configuration for robot limitations such as position and velocity bounds. It can be loader through `RobotModelLoader.loadJointLimits(JointLimitsLoader)`\n",
    "- Kinematics configuration: Configuration for kinematics solvers. It can be loaded through `RobotModelLoader.loadKinematicsSolvers(KinematicsLoader)`\n",
    "- Planner configuration: Configuration for motion planner. PlannerConfiguration works as a parameter when create planner."
   ]
  },
  {
   "cell_type": "code",
   "execution_count": 5,
   "id": "01fa77e1",
   "metadata": {},
   "outputs": [],
   "source": [
    "joint_limits_loader = moveit.createJointLimitsLoaderFromFile(\"../resources/pr2_config/joint_limits.yaml\")\n",
    "robot_loader.loadJointLimits(joint_limits_loader)\n",
    "\n",
    "kinematic_solver_loader = moveit.createKinematicsLoaderFromFile(\"../resources/pr2_config/kinematics.yaml\")\n",
    "robot_loader.loadKinematicsSolvers(kinematic_solver_loader)\n",
    "\n",
    "planner_config = moveit.createPlannerConfigurationFromFile(\"../resources/pr2_config/ompl_planning.yaml\")"
   ]
  },
  {
   "cell_type": "markdown",
   "id": "f9e9affc",
   "metadata": {},
   "source": [
    "### Create Planner and PlanningScene\n",
    "Planner is the motion planning solver. PlanningScene matains the robot and world info."
   ]
  },
  {
   "cell_type": "code",
   "execution_count": 6,
   "id": "46eea08f",
   "metadata": {},
   "outputs": [],
   "source": [
    "robot_model = robot_loader.getModel()\n",
    "planner = moveit.PlannerManager(robot_model, planner_config)\n",
    "planning_scene = robot_loader.newPlanningScene()"
   ]
  },
  {
   "cell_type": "markdown",
   "id": "0da903b0",
   "metadata": {},
   "source": [
    "### Create Pybullet Hardware Accessor\n",
    "Robot controller is implemented within our moveit_noros shared library. The controller can be used to control different hardwares as long as the hardware has implemented the common `HardwareInterface`.\n",
    "\n",
    "When it comes to pybullet, we also treat it as a hardware and implement `PybulletHardware` inherited from `HardwareInterface`. However, the implementation is very intuitively which accesses the pybullet python methods directly.\n",
    "\n",
    "In order to create a PybulletHardware, we need to provide pybullet python module directly together with the bullet3 bodyUniqueId of robot, which is the return value of `pybullet.loadURDF`."
   ]
  },
  {
   "cell_type": "code",
   "execution_count": 7,
   "id": "d7062247",
   "metadata": {},
   "outputs": [],
   "source": [
    "bullet_hardware = moveit.PybulletHardware(pybullet, robot_id)"
   ]
  },
  {
   "cell_type": "markdown",
   "id": "ad916399",
   "metadata": {},
   "source": [
    "### Create PlanningSceneHelper\n",
    "PlanningSceneHelper has the following functionality:\n",
    "- Synchronize robot state between moveit planning scene and simulated / real robot hardware.\n",
    "- Synchronize world information between moveit planning scene and simulated / real world."
   ]
  },
  {
   "cell_type": "code",
   "execution_count": 8,
   "id": "918b2204",
   "metadata": {},
   "outputs": [],
   "source": [
    "scene_helper = moveit.PlanningSceneHelper(bullet_hardware, planning_scene)"
   ]
  },
  {
   "cell_type": "markdown",
   "id": "97988252",
   "metadata": {},
   "source": [
    "PlanningSceneHelper provides two different robot state synchronization method\n",
    "- `sync()`: Change the robot state within moveit PlanningScene the same as pybullet hardware.\n",
    "- `resync()`: Change the robot state (joint position only) within pybullet the same as PlanningScene current robot state.\n",
    "\n",
    "The first thing we need to do after creation of PlanningSceneHelper is call `PlanningSceneHelper.reset()` which does two important setting\n",
    "- Set the current robot state within PlanningScene as default state.\n",
    "- Set all joint positions within pybullet the same as PlanningScene, call `resync()` in other words."
   ]
  },
  {
   "cell_type": "code",
   "execution_count": 9,
   "id": "eb3b0831",
   "metadata": {},
   "outputs": [],
   "source": [
    "scene_helper.reset()"
   ]
  },
  {
   "cell_type": "markdown",
   "id": "96d5ad54",
   "metadata": {},
   "source": [
    "However, you may find out that the robot in pybullet GUI is non draggable after the calling of `PlanningSceneHelper.reset()` or `resync()`. That is because giant force is applied on every robot joint. You can call `PybulletHardware.free()` to make it draggable again.\n",
    "\n",
    "If you still can not drag the robot link through your mouse, try to press `ALT` or `CTRL`."
   ]
  },
  {
   "cell_type": "code",
   "execution_count": 10,
   "id": "6bc29c0e",
   "metadata": {},
   "outputs": [],
   "source": [
    "bullet_hardware.free()"
   ]
  },
  {
   "cell_type": "markdown",
   "id": "77d6e300",
   "metadata": {},
   "source": [
    "`free()` can also have one parameter which specify the force value applied on each joint. You can try to give it a small value (default is 200)."
   ]
  },
  {
   "cell_type": "code",
   "execution_count": 11,
   "id": "759948e3",
   "metadata": {},
   "outputs": [],
   "source": [
    "bullet_hardware.free(1)"
   ]
  },
  {
   "cell_type": "code",
   "execution_count": 12,
   "id": "d8758bcb",
   "metadata": {},
   "outputs": [],
   "source": [
    "scene_helper.reset()"
   ]
  },
  {
   "cell_type": "markdown",
   "id": "8d712a27",
   "metadata": {},
   "source": [
    "## Solve Inverse Kinematics\n",
    "Inverse kinematics means to calculate the position of each joint according to the position of tip link. Solving IK does not need any planner or planning scene. It can be done through `RobotState.setFromIK()` directly.\n",
    "\n",
    "In order to test IK solving, we need to specify the JointModelGroup we calculate for. JointModelGroup is the basic unit to do kinematics calculation and motion planning. It is defined within the moveit `srdf` file."
   ]
  },
  {
   "cell_type": "code",
   "execution_count": 13,
   "id": "cd488e96",
   "metadata": {},
   "outputs": [
    {
     "name": "stdout",
     "output_type": "stream",
     "text": [
      "joint model group:\tleft_arm\n",
      "base link:\t l_shoulder_pan_link\n",
      "tip link:\t l_wrist_roll_link\n"
     ]
    }
   ],
   "source": [
    "PLANNING_GROUP = \"left_arm\"\n",
    "joint_model_group = robot_model.getJointModelGroup(PLANNING_GROUP)\n",
    "\n",
    "base_link = joint_model_group.base_link\n",
    "tip_link = joint_model_group.tip_link\n",
    "print(\"joint model group:\\t%s\" % joint_model_group)\n",
    "print(\"base link:\\t %s\" % base_link)\n",
    "print(\"tip link:\\t %s\" % tip_link)"
   ]
  },
  {
   "cell_type": "markdown",
   "id": "19a57f71",
   "metadata": {},
   "source": [
    "Any robot state can be used to compute IK. Here we use two different robot state:\n",
    "- One random state, which generates valid random robot position.\n",
    "- One control state. We use the tip link position generated by random state as input, set the control state by IK solving."
   ]
  },
  {
   "cell_type": "code",
   "execution_count": 14,
   "id": "dd46c6d5",
   "metadata": {},
   "outputs": [],
   "source": [
    "random_state = robot_loader.newRobotState()\n",
    "control_state = robot_loader.newRobotState()\n",
    "random_state.setToDefaultValues()\n",
    "control_state.setToDefaultValues()"
   ]
  },
  {
   "cell_type": "markdown",
   "id": "de66c8be",
   "metadata": {},
   "source": [
    "We first set random_state to a valid random position and fetch its tip link transform. However, here we only want to solve IK for `left_arm`, so we use joint_model_group as one parameter. `RobotState.setToRandomPositions()` can also take no parameter which means set all joints to a random position.\n",
    "\n",
    "**Note:** Transformation here is represented through Eigen Affine Matrix."
   ]
  },
  {
   "cell_type": "code",
   "execution_count": 15,
   "id": "c2f9a6c9",
   "metadata": {},
   "outputs": [
    {
     "name": "stdout",
     "output_type": "stream",
     "text": [
      "<EigenAffine3d from Eigen::Affine3d>\n",
      "Translation:\n",
      " 0.576519\n",
      "-0.264793\n",
      "  1.08932\n",
      "Rotation:\n",
      " -0.229529   0.259877  -0.937966\n",
      "0.00702307  -0.963228  -0.268594\n",
      " -0.973277 -0.0682375   0.219263\n",
      "\n"
     ]
    }
   ],
   "source": [
    "random_state.setToRandomPositions(joint_model_group)\n",
    "tip_transform = random_state.getGlobalLinkTransform(tip_link)\n",
    "print(tip_transform.__repr__())"
   ]
  },
  {
   "cell_type": "markdown",
   "id": "028d182d",
   "metadata": {},
   "source": [
    "Now we set control state through IK solving."
   ]
  },
  {
   "cell_type": "code",
   "execution_count": 16,
   "id": "c65b101c",
   "metadata": {},
   "outputs": [
    {
     "name": "stdout",
     "output_type": "stream",
     "text": [
      "IK FOUND\n"
     ]
    }
   ],
   "source": [
    "success = control_state.setFromIK(joint_model_group, tip_transform)\n",
    "print(\"IK FOUND\" if success else \"CAN NOT FIND IK\")"
   ]
  },
  {
   "cell_type": "markdown",
   "id": "4ba67563",
   "metadata": {},
   "source": [
    "We can visualize the IK solution by control pybullet model move to control_state. Here we use `JointModelGroup.getJointModelNames()` to fetch the name of all joints. And use `PybulletHardware.getJointIndex(joint_name)` to fetch the joint index of specific joint within pybullet."
   ]
  },
  {
   "cell_type": "code",
   "execution_count": 17,
   "id": "1bdde10e",
   "metadata": {},
   "outputs": [],
   "source": [
    "for joint_name in joint_model_group.getJointModelNames():\n",
    "    joint_index = bullet_hardware.getJointIndex(joint_name)\n",
    "    if joint_index > 0:\n",
    "        pybullet.setJointMotorControl2(robot_id, \n",
    "                                       joint_index, \n",
    "                                       pybullet.POSITION_CONTROL, \n",
    "                                       targetPosition = control_state.getJointPosition(joint_name),\n",
    "                                       maxVelocity = 3)\n",
    "    else:\n",
    "        print(\"Can not find joint \" + joint_name)"
   ]
  },
  {
   "cell_type": "markdown",
   "id": "897a4ffb",
   "metadata": {},
   "source": [
    "Here we use a small thread to repeat the above process."
   ]
  },
  {
   "cell_type": "code",
   "execution_count": 18,
   "id": "6b52951a",
   "metadata": {},
   "outputs": [],
   "source": [
    "class randomIK(threading.Thread):\n",
    "    def __init__(self):\n",
    "        self.stop = False\n",
    "        threading.Thread.__init__(self)\n",
    "    def run(self):\n",
    "        while True:\n",
    "            random_state.setToRandomPositions(joint_model_group)\n",
    "            tip_transform = random_state.getGlobalLinkTransform(tip_link)\n",
    "            if(control_state.setFromIK(joint_model_group, tip_transform)):\n",
    "                for joint_name in joint_model_group.getJointModelNames():\n",
    "                    joint_index = bullet_hardware.getJointIndex(joint_name)\n",
    "                    if joint_index > 0:\n",
    "                        pybullet.setJointMotorControl2(robot_id, \n",
    "                                                       joint_index, \n",
    "                                                       pybullet.POSITION_CONTROL, \n",
    "                                                       targetPosition = control_state.getJointPosition(joint_name),\n",
    "                                                       maxVelocity = 3)\n",
    "                    else:\n",
    "                        print(\"Can not find joint \" + joint_name)\n",
    "            if self.stop:\n",
    "                break\n",
    "            time.sleep(2)\n",
    "        print(\"Thread end\")"
   ]
  },
  {
   "cell_type": "code",
   "execution_count": 19,
   "id": "b9ac4392",
   "metadata": {},
   "outputs": [],
   "source": [
    "randomIK_thread = randomIK()\n",
    "randomIK_thread.start()"
   ]
  },
  {
   "cell_type": "code",
   "execution_count": 20,
   "id": "5ac282b5",
   "metadata": {},
   "outputs": [
    {
     "name": "stdout",
     "output_type": "stream",
     "text": [
      "Thread end\n"
     ]
    }
   ],
   "source": [
    "randomIK_thread.stop = True\n",
    "randomIK_thread.join()\n",
    "scene_helper.reset()"
   ]
  },
  {
   "cell_type": "markdown",
   "id": "4d41b67e",
   "metadata": {},
   "source": [
    "## Pose Goal Motion Plan\n",
    "The most motion plan task is move the robot to a specific pose. Here we use planner to set the tip link of joint_model_goup to specific pose. This may sounds same as inverse kinematics. But we can get a whole moveing trajectory with the help of planner.\n",
    "\n",
    "Remember that we have created our planner and planning scene before."
   ]
  },
  {
   "cell_type": "code",
   "execution_count": 21,
   "id": "4e02bdce",
   "metadata": {},
   "outputs": [
    {
     "name": "stdout",
     "output_type": "stream",
     "text": [
      "<moveit_noros.PlannerManager object at 0x7f0b2433f330>\n",
      "<moveit_noros.PlanningScene object at 0x7f0b2433f670>\n",
      "<moveit_noros.PlanningSceneHelper object at 0x7f0b2433f570>\n"
     ]
    }
   ],
   "source": [
    "print(planner.__repr__())\n",
    "print(planning_scene.__repr__())\n",
    "print(scene_helper.__repr__())"
   ]
  },
  {
   "cell_type": "markdown",
   "id": "7cf25ed5",
   "metadata": {},
   "source": [
    "### Generate Motion Plan Request\n",
    "We still use random_state to generate a random tip_link transform."
   ]
  },
  {
   "cell_type": "code",
   "execution_count": 22,
   "id": "db3615fe",
   "metadata": {},
   "outputs": [
    {
     "name": "stdout",
     "output_type": "stream",
     "text": [
      "<EigenAffine3d from Eigen::Affine3d>\n",
      "Translation:\n",
      "  0.663742\n",
      "0.00204982\n",
      "  0.709371\n",
      "Rotation:\n",
      "-0.462243  0.801188 -0.380037\n",
      "-0.350081  -0.55864 -0.751908\n",
      "-0.814724  -0.21452  0.538708\n",
      "\n"
     ]
    }
   ],
   "source": [
    "random_state.setToRandomPositions(joint_model_group)\n",
    "tip_transform = random_state.getGlobalLinkTransform(tip_link)\n",
    "print(tip_transform.__repr__())"
   ]
  },
  {
   "cell_type": "markdown",
   "id": "cd5b096e",
   "metadata": {},
   "source": [
    "In order to do a motion plan, we need to construct a MotionPlanRequest. The definition of MotionPlanRequest is from [ros-planning/moveit_msgs/msg/MotionPlanRequest.msg](https://github.com/ros-planning/moveit_msgs/blob/kinetic-devel/msg/MotionPlanRequest.msg).\n",
    "\n",
    "We first create a stamped pose for tip link. `PoseStamped` need to specify the corresponding frame. All transforms fetched directly from `RobotState` is according to robot root frame. Here we want to use the joint model group base frame instead of the robot root frame. In that case, we need to compute the relative transform of tip_link according to the group base frame.\n",
    "\n",
    "`RobotState.linkRelativeTransform()` can calculate the relative transform of link according to specific frame.\n",
    "\n",
    "When creating PoseStamped, the rotation should be in quaternion form."
   ]
  },
  {
   "cell_type": "code",
   "execution_count": 23,
   "id": "8cab541f",
   "metadata": {},
   "outputs": [
    {
     "name": "stdout",
     "output_type": "stream",
     "text": [
      "Translation:\n",
      "  0.713742\n",
      "0.00204982\n",
      " -0.249554\n",
      "Rotation:\n",
      "-0.462243  0.801188 -0.380037\n",
      "-0.350081  -0.55864 -0.751908\n",
      "-0.814724  -0.21452  0.538708\n",
      "\n"
     ]
    }
   ],
   "source": [
    "base_frame = joint_model_group.base_frame\n",
    "relative_transform = random_state.linkRelativeTransform(tip_link, base_frame)\n",
    "print(relative_transform)\n",
    "pose = moveit.PoseStamped(base_frame, relative_transform.translation, relative_transform.quaternion.value)"
   ]
  },
  {
   "cell_type": "markdown",
   "id": "6aba63c0",
   "metadata": {},
   "source": [
    "Create MotionPlanRequest and add a pose goal."
   ]
  },
  {
   "cell_type": "code",
   "execution_count": 24,
   "id": "08b89df4",
   "metadata": {},
   "outputs": [],
   "source": [
    "req = moveit.MotionPlanRequest(PLANNING_GROUP)\n",
    "pose_goal = moveit.constructGoalConstraints(tip_link, pose, 0.01, 0.01)\n",
    "req.addGoal(pose_goal)"
   ]
  },
  {
   "cell_type": "markdown",
   "id": "6db2f2c6",
   "metadata": {},
   "source": [
    "### Solve Motion Plan Task\n",
    "Create planning context for this request and solve the motion plan task use this context."
   ]
  },
  {
   "cell_type": "code",
   "execution_count": 25,
   "id": "9ddf3168",
   "metadata": {},
   "outputs": [],
   "source": [
    "context = planner.getPlanningContext(planning_scene, req)\n",
    "response = context.solve()"
   ]
  },
  {
   "cell_type": "markdown",
   "id": "406b74e0",
   "metadata": {},
   "source": [
    "`response.trajectory` now contains the planed trajectory information. The trajectory is a list of robot state waypoints. We can vistualize this trajectory in out pybullet GUI by adding debug lines according to the tip transform of these waypoints.\n",
    "\n",
    "**Note:** You can generate a new random position if the trajectory line is not obvious."
   ]
  },
  {
   "cell_type": "code",
   "execution_count": 26,
   "id": "958636a7",
   "metadata": {},
   "outputs": [],
   "source": [
    "# RobotTrajectory.waypoints is a list of waypoints in the form of RobotState.\n",
    "for i in range(len(response.trajectory.waypoints)-1):\n",
    "    # RobotState.getGlobalLinkTransform can get the transformation affine matrix for specific link.\n",
    "    # We use this method to fetch the tip link transform.\n",
    "    # Note that the corresponding frame of this transformation is the root of robot model\n",
    "    # which is also the origin of world frame as we load the robot at [0, 0, 0] through pybullet.loadURDF.\n",
    "    state1 = response.trajectory.waypoints[i]\n",
    "    state2 = response.trajectory.waypoints[i+1]\n",
    "    tip_transform1 = state1.getGlobalLinkTransform(tip_link)\n",
    "    tip_transform2 = state2.getGlobalLinkTransform(tip_link)\n",
    "    pybullet.addUserDebugLine(tip_transform1.translation, # Starting point\n",
    "                              tip_transform2.translation, # End point\n",
    "                              [1, 0, 0],                  # Color in [R, G, B]\n",
    "                              5,                          # Line width\n",
    "                              10)                         # Life time in seconds\n",
    "    "
   ]
  },
  {
   "cell_type": "markdown",
   "id": "b96a80ff",
   "metadata": {},
   "source": [
    "### Move Along Trajectory\n",
    "In order to control robot to move along this trajectory smoothly, we still need following things:\n",
    "- Time info. There is no time related info within trajectory for now, which means there is no duration and velocity info. In that case, the robot does not know when it should move to which waypoint and how fast it should be.\n",
    "- Sample method. There are only several discretized waypoints. We still need a sample method that can sample trajectory information at any time point.\n",
    "\n",
    "We propose SplineTrajectory with those capacities.\n",
    "\n",
    "**Note:** When compute spline trajectory from robot trajectory, we always tranfer reference of robot trajectory instead of copying it. And the time information would be put int this robot trajectory directly. You can check the velue of `response.trajectory.durations` before and after the creation of SplineTrajectory."
   ]
  },
  {
   "cell_type": "code",
   "execution_count": 27,
   "id": "0505d229",
   "metadata": {},
   "outputs": [],
   "source": [
    "spline_trajectory = moveit.computeSpline(response.trajectory)"
   ]
  },
  {
   "cell_type": "markdown",
   "id": "b975e523",
   "metadata": {},
   "source": [
    "Now we can sample trajectory info at any time point (even outside the bound of trajectory start time and end time). We propose many different sample methods for SplineTrajectory, the most important two of them is `sample_by_interval` and `sample_at_time`.\n",
    "\n",
    "**sample_by_interval(joint_name, interval):** Sample the position and velocity of specific joint with fix time interval.\n",
    "\n",
    "**sample_at_time(time_point):** Sample position and velocity of all joints at specific time point.\n",
    "\n",
    "The return value of those two sample method is `PosVelAccState` whose position and velocity attributes are two double array. However, the meaning of list index is different. For **sample_by_interval**, the index means different time point. For **sample_at_time**, the index means the joint index within `SplineTrajectory.joint_names`"
   ]
  },
  {
   "cell_type": "code",
   "execution_count": 28,
   "id": "c197d12a",
   "metadata": {},
   "outputs": [
    {
     "data": {
      "text/plain": [
       "<trajectory_interface::PosVelAccState<double>, SegmentState>\n",
       "Position:\n",
       "[ -3.79068e-05, -0.0948169, -0.237784,]\n",
       "Velocity:\n",
       "[ -0.0033528, -0.146849, -0.107569,]"
      ]
     },
     "execution_count": 28,
     "metadata": {},
     "output_type": "execute_result"
    }
   ],
   "source": [
    "spline_trajectory.sample_by_interval(spline_trajectory.joint_names[0], 1)"
   ]
  },
  {
   "cell_type": "code",
   "execution_count": 29,
   "id": "3d094df6",
   "metadata": {},
   "outputs": [
    {
     "data": {
      "text/plain": [
       "<trajectory_interface::PosVelAccState<double>, SegmentState>\n",
       "Position:\n",
       "[ -0.000691122, 0.00171195, -0.000196211, -1.13433, 0.0069916, -1.05227, -0.00343729,]\n",
       "Velocity:\n",
       "[ -0.0164169, 0.0406655, -0.0046608, 0.0313236, 0.166078, -0.0538777, -0.0816493,]"
      ]
     },
     "execution_count": 29,
     "metadata": {},
     "output_type": "execute_result"
    }
   ],
   "source": [
    "spline_trajectory.sample_at_time(0.1)"
   ]
  },
  {
   "cell_type": "markdown",
   "id": "4435de02",
   "metadata": {},
   "source": [
    "Here we use matplotlib to draw the difference between RobotTrajectory and SplineTrajectory."
   ]
  },
  {
   "cell_type": "code",
   "execution_count": 30,
   "id": "7da86a96",
   "metadata": {},
   "outputs": [
    {
     "name": "stdout",
     "output_type": "stream",
     "text": [
      "Position and Velocity for Joint l_shoulder_lift_joint\n"
     ]
    },
    {
     "data": {
      "image/png": "[encoded data removed]",
      "text/plain": [
       "<Figure size 1920x1080 with 4 Axes>"
      ]
     },
     "metadata": {
      "needs_background": "light"
     },
     "output_type": "display_data"
    }
   ],
   "source": [
    "fig = plt.figure(num = 1, figsize=(16, 9), dpi = 120)\n",
    "origin_position = fig.add_subplot(2, 2, 1)\n",
    "sample_position = fig.add_subplot(2, 2, 2)\n",
    "origin_velocity = fig.add_subplot(2,2,3)\n",
    "sample_velocity = fig.add_subplot(2,2,4)\n",
    "origin_position.set_title(\"Origin Trajectory Position\")\n",
    "origin_position.set_xlabel(\"time\")\n",
    "origin_position.set_ylabel(\"position\")\n",
    "sample_position.set_title(\"Sampled Trajectory Position (1000Hz)\")\n",
    "sample_position.set_xlabel(\"time\")\n",
    "sample_position.set_ylabel(\"position\")\n",
    "origin_velocity.set_title(\"Origin Trajectory Velocity\")\n",
    "origin_velocity.set_xlabel(\"time\")\n",
    "origin_velocity.set_ylabel(\"velocity\")\n",
    "sample_velocity.set_title(\"Sampled Trajectory Velocity (1000Hz)\")\n",
    "sample_velocity.set_xlabel(\"time\")\n",
    "sample_velocity.set_ylabel(\"velocity\")\n",
    "\n",
    "plt_joint_name = spline_trajectory.joint_names[1]\n",
    "print(\"Position and Velocity for Joint \" + plt_joint_name)\n",
    "sample = spline_trajectory.sample_by_interval(plt_joint_name, 0.01)\n",
    "\n",
    "# plot origin position\n",
    "y_origin_position = []\n",
    "for waypoint in response.trajectory.waypoints:\n",
    "    y_origin_position.append(waypoint.getJointPosition(plt_joint_name))\n",
    "time_stamp_origin = []\n",
    "current_time_stamp_origin = 0\n",
    "for duration in response.trajectory.durations:\n",
    "    time_stamp_origin.append(duration + current_time_stamp_origin)\n",
    "    current_time_stamp_origin+=duration\n",
    "plot1 = origin_position.plot(time_stamp_origin, \n",
    "                             y_origin_position, \n",
    "                             linestyle='-', \n",
    "                             marker='o', \n",
    "                             markersize = 3)\n",
    "\n",
    "# plot sampled position\n",
    "time_stamp_sample = np.linspace(spline_trajectory.start_time, spline_trajectory.end_time, sample.position.size)\n",
    "plot2 = sample_position.plot(time_stamp_sample, \n",
    "                             sample.position)\n",
    "\n",
    "# plot origin velocity\n",
    "y_origin_velocity = []\n",
    "for waypoint in response.trajectory.waypoints:\n",
    "    y_origin_velocity.append(waypoint.getJointVelocity(plt_joint_name))\n",
    "plot3 = origin_velocity.plot(time_stamp_origin, \n",
    "                             y_origin_velocity, \n",
    "                             linestyle='-', \n",
    "                             marker='o', \n",
    "                             markersize = 3, \n",
    "                             color='orange')\n",
    "\n",
    "# plot sampled velocity\n",
    "time_stamp_sample = np.linspace(spline_trajectory.start_time, spline_trajectory.end_time, sample.velocity.size)\n",
    "plot4 = sample_velocity.plot(time_stamp_sample, \n",
    "                             sample.velocity, \n",
    "                             color = 'orange')\n",
    "\n",
    "# get tip transforms\n",
    "tip_transforms = spline_trajectory.tip_transforms\n",
    "#for tip in tip_transforms:\n",
    "    #print(tip)\n",
    "\n",
    "plt.show()"
   ]
  },
  {
   "cell_type": "markdown",
   "id": "0dd65744",
   "metadata": {},
   "source": [
    "### Control robot By Pybullet.setJointMotorArray Directly\n",
    "As long as we have SplineTrajectory, the simplest way to control pybullet robot move along this trajectory is through pybullet.POSITION_CONTROL."
   ]
  },
  {
   "cell_type": "code",
   "execution_count": 31,
   "id": "475445f2",
   "metadata": {},
   "outputs": [],
   "source": [
    "time_interval = 0.01\n",
    "joint_indices = []\n",
    "for joint_name in spline_trajectory.joint_names:\n",
    "    joint_indices.append(bullet_hardware.getJointIndex(joint_name))\n",
    "current_time = 0.0\n",
    "while current_time < spline_trajectory.end_time:\n",
    "    sample_point = spline_trajectory.sample_at_time(current_time)\n",
    "    pybullet.setJointMotorControlArray(robot_id,\n",
    "                                       joint_indices,\n",
    "                                       pybullet.POSITION_CONTROL,\n",
    "                                       targetPositions = sample_point.position,\n",
    "                                       targetVelocities = sample_point.velocity)\n",
    "    current_time += time_interval\n",
    "    time.sleep(time_interval)"
   ]
  },
  {
   "cell_type": "code",
   "execution_count": 32,
   "id": "b9f3b3d2",
   "metadata": {},
   "outputs": [],
   "source": [
    "scene_helper.reset()"
   ]
  },
  {
   "cell_type": "markdown",
   "id": "4527e319",
   "metadata": {},
   "source": [
    "### Control robot By Controller\n",
    "We also provide a controller to control robot.\n",
    "\n",
    "Controller is designed to control any hardware that implements `HardwareInterface`. Out `PybulletHardware` python accessor is just one of these hardwares."
   ]
  },
  {
   "cell_type": "code",
   "execution_count": 33,
   "id": "82e7f068",
   "metadata": {},
   "outputs": [],
   "source": [
    "controller = moveit.Controller(bullet_hardware)"
   ]
  },
  {
   "cell_type": "code",
   "execution_count": 34,
   "id": "a4e6e48f",
   "metadata": {},
   "outputs": [
    {
     "data": {
      "text/plain": [
       "True"
      ]
     },
     "execution_count": 34,
     "metadata": {},
     "output_type": "execute_result"
    }
   ],
   "source": [
    "controller.execute(spline_trajectory)"
   ]
  },
  {
   "cell_type": "code",
   "execution_count": 35,
   "id": "ad45b527",
   "metadata": {},
   "outputs": [],
   "source": [
    "scene_helper.reset()"
   ]
  },
  {
   "cell_type": "markdown",
   "id": "65bd4334",
   "metadata": {},
   "source": [
    "Here we use a small thread to repeat the motion plan and robot controll process."
   ]
  },
  {
   "cell_type": "code",
   "execution_count": 36,
   "id": "12a721f3",
   "metadata": {},
   "outputs": [],
   "source": [
    "class randomPose(threading.Thread):\n",
    "    def __init__(self):\n",
    "        self.stop = False\n",
    "        threading.Thread.__init__(self)\n",
    "    def run(self):\n",
    "        while True:\n",
    "            # Synchronize moveit robot state same with pybullet\n",
    "            scene_helper.sync()\n",
    "            \n",
    "            # Generate valid random position\n",
    "            random_state.setToRandomPositions(joint_model_group)\n",
    "            \n",
    "            # Create motion plan request\n",
    "            relative_transform = random_state.linkRelativeTransform(tip_link, base_frame)\n",
    "            pose = moveit.PoseStamped(base_frame, relative_transform.translation, relative_transform.quaternion.value)\n",
    "            req = moveit.MotionPlanRequest(PLANNING_GROUP)\n",
    "            pose_goal = moveit.constructGoalConstraints(tip_link, pose, 0.01, 0.01)\n",
    "            req.addGoal(pose_goal)\n",
    "            \n",
    "            # Create planning context\n",
    "            context = planner.getPlanningContext(planning_scene, req)\n",
    "            if context is None:\n",
    "                print(\"Context is None\")\n",
    "                scene_helper.reset()\n",
    "                continue\n",
    "                \n",
    "            # Solve\n",
    "            response = context.solve()\n",
    "            \n",
    "            if (response is None) or (response.trajectory is None):\n",
    "                print(\"Empty Motion Plan Response\")\n",
    "                scene_helper.reset()\n",
    "                continue\n",
    "            \n",
    "            # Compute spline_trajectory\n",
    "            spline_trajectory = moveit.computeSpline(response.trajectory)\n",
    "            \n",
    "            # Show trajectory\n",
    "            bullet_hardware.drawTrajectory(spline_trajectory, \n",
    "                                           spline_trajectory.end_time - spline_trajectory.start_time)\n",
    "            \n",
    "            # Move Robot\n",
    "            controller.execute(spline_trajectory)\n",
    "            \n",
    "            if self.stop:\n",
    "                break\n",
    "            \n",
    "        print(\"Thread end\")"
   ]
  },
  {
   "cell_type": "code",
   "execution_count": 37,
   "id": "d2c2a490",
   "metadata": {},
   "outputs": [
    {
     "name": "stdout",
     "output_type": "stream",
     "text": [
      "Empty Motion Plan Response\n",
      "Empty Motion Plan Response\n",
      "Empty Motion Plan Response\n",
      "Empty Motion Plan Response\n",
      "Empty Motion Plan Response\n",
      "Empty Motion Plan Response\n",
      "Empty Motion Plan Response\n",
      "Empty Motion Plan Response\n",
      "Empty Motion Plan Response\n",
      "Empty Motion Plan Response\n",
      "Empty Motion Plan Response\n",
      "Empty Motion Plan Response\n",
      "Empty Motion Plan Response\n",
      "Empty Motion Plan Response\n",
      "Empty Motion Plan Response\n",
      "Empty Motion Plan Response\n",
      "Empty Motion Plan Response\n",
      "Empty Motion Plan Response\n",
      "Empty Motion Plan Response\n",
      "Empty Motion Plan Response\n",
      "Empty Motion Plan Response\n",
      "Empty Motion Plan Response\n",
      "Empty Motion Plan Response\n",
      "Empty Motion Plan Response\n",
      "Empty Motion Plan Response\n",
      "Empty Motion Plan Response\n",
      "Empty Motion Plan Response\n",
      "Empty Motion Plan Response\n",
      "Empty Motion Plan Response\n",
      "Empty Motion Plan Response\n",
      "Empty Motion Plan Response\n",
      "Empty Motion Plan Response\n",
      "Empty Motion Plan Response\n",
      "Empty Motion Plan Response\n",
      "Empty Motion Plan Response\n",
      "Empty Motion Plan Response\n",
      "Empty Motion Plan Response\n",
      "Empty Motion Plan Response\n",
      "Empty Motion Plan Response\n",
      "Empty Motion Plan Response\n",
      "Empty Motion Plan Response\n",
      "Empty Motion Plan Response\n",
      "Empty Motion Plan Response\n",
      "Empty Motion Plan Response\n",
      "Empty Motion Plan Response\n",
      "Empty Motion Plan Response\n",
      "Empty Motion Plan Response\n",
      "Empty Motion Plan Response\n",
      "Empty Motion Plan Response\n",
      "Empty Motion Plan Response\n",
      "Empty Motion Plan Response\n",
      "Empty Motion Plan Response\n",
      "Empty Motion Plan Response\n",
      "Empty Motion Plan Response\n",
      "Empty Motion Plan Response\n",
      "Empty Motion Plan Response\n",
      "Empty Motion Plan Response\n",
      "Empty Motion Plan Response\n",
      "Empty Motion Plan Response\n",
      "Empty Motion Plan Response\n",
      "Empty Motion Plan Response\n",
      "Empty Motion Plan Response\n",
      "Empty Motion Plan Response\n",
      "Empty Motion Plan Response\n",
      "Empty Motion Plan Response\n",
      "Empty Motion Plan Response\n",
      "Empty Motion Plan Response\n",
      "Empty Motion Plan Response\n",
      "Empty Motion Plan Response\n",
      "Empty Motion Plan Response\n",
      "Empty Motion Plan Response\n",
      "Empty Motion Plan Response\n",
      "Empty Motion Plan Response\n",
      "Empty Motion Plan Response\n",
      "Empty Motion Plan Response\n",
      "Empty Motion Plan Response\n",
      "Empty Motion Plan Response\n",
      "Empty Motion Plan Response\n",
      "Empty Motion Plan Response\n",
      "Empty Motion Plan Response\n",
      "Empty Motion Plan Response\n",
      "Empty Motion Plan Response\n",
      "Empty Motion Plan Response\n",
      "Empty Motion Plan Response\n",
      "Empty Motion Plan Response\n",
      "Empty Motion Plan Response\n",
      "Empty Motion Plan Response\n",
      "Empty Motion Plan Response\n",
      "Empty Motion Plan Response\n",
      "Empty Motion Plan Response\n",
      "Empty Motion Plan Response\n",
      "Empty Motion Plan Response\n",
      "Empty Motion Plan Response\n",
      "Empty Motion Plan Response\n",
      "Empty Motion Plan Response\n",
      "Empty Motion Plan Response\n",
      "Empty Motion Plan Response\n",
      "Empty Motion Plan Response\n",
      "Empty Motion Plan Response\n",
      "Empty Motion Plan Response\n",
      "Empty Motion Plan Response\n",
      "Empty Motion Plan Response\n",
      "Empty Motion Plan Response\n",
      "Empty Motion Plan Response\n",
      "Empty Motion Plan Response\n",
      "Empty Motion Plan Response\n",
      "Empty Motion Plan Response\n",
      "Empty Motion Plan Response\n",
      "Empty Motion Plan Response\n",
      "Empty Motion Plan Response\n",
      "Empty Motion Plan Response\n",
      "Empty Motion Plan Response\n",
      "Empty Motion Plan Response\n",
      "Empty Motion Plan Response\n",
      "Empty Motion Plan Response\n",
      "Empty Motion Plan Response\n",
      "Empty Motion Plan Response\n",
      "Empty Motion Plan Response\n",
      "Empty Motion Plan Response\n",
      "Empty Motion Plan Response\n",
      "Empty Motion Plan Response\n",
      "Empty Motion Plan Response\n",
      "Empty Motion Plan Response\n",
      "Empty Motion Plan Response\n",
      "Empty Motion Plan Response\n",
      "Empty Motion Plan Response\n",
      "Empty Motion Plan Response\n",
      "Empty Motion Plan Response\n",
      "Empty Motion Plan Response\n",
      "Empty Motion Plan Response\n",
      "Empty Motion Plan Response\n",
      "Empty Motion Plan Response\n",
      "Empty Motion Plan Response\n",
      "Empty Motion Plan Response\n",
      "Empty Motion Plan Response\n",
      "Empty Motion Plan Response\n",
      "Empty Motion Plan Response\n",
      "Empty Motion Plan Response\n",
      "Empty Motion Plan Response\n",
      "Empty Motion Plan Response\n",
      "Empty Motion Plan Response\n",
      "Empty Motion Plan Response\n",
      "Empty Motion Plan Response\n",
      "Empty Motion Plan Response\n",
      "Empty Motion Plan Response\n",
      "Empty Motion Plan Response\n",
      "Empty Motion Plan Response\n",
      "Empty Motion Plan Response\n",
      "Empty Motion Plan Response\n",
      "Empty Motion Plan Response\n",
      "Empty Motion Plan Response\n",
      "Empty Motion Plan Response\n",
      "Empty Motion Plan Response\n",
      "Empty Motion Plan Response\n",
      "Empty Motion Plan Response\n",
      "Empty Motion Plan Response\n",
      "Empty Motion Plan Response\n",
      "Empty Motion Plan Response\n",
      "Empty Motion Plan Response\n",
      "Empty Motion Plan Response\n",
      "Empty Motion Plan Response\n",
      "Empty Motion Plan Response\n",
      "Empty Motion Plan Response\n",
      "Empty Motion Plan Response\n",
      "Empty Motion Plan Response\n",
      "Empty Motion Plan Response\n",
      "Empty Motion Plan Response\n",
      "Empty Motion Plan Response\n",
      "Empty Motion Plan Response\n",
      "Empty Motion Plan Response\n",
      "Empty Motion Plan Response\n",
      "Empty Motion Plan Response\n",
      "Empty Motion Plan Response\n",
      "Empty Motion Plan Response\n",
      "Empty Motion Plan Response\n",
      "Empty Motion Plan Response\n",
      "Empty Motion Plan Response\n",
      "Empty Motion Plan Response\n",
      "Empty Motion Plan Response\n",
      "Empty Motion Plan Response\n",
      "Empty Motion Plan Response\n",
      "Empty Motion Plan Response\n",
      "Empty Motion Plan Response\n",
      "Empty Motion Plan Response\n",
      "Empty Motion Plan Response\n",
      "Empty Motion Plan Response\n",
      "Empty Motion Plan Response\n",
      "Empty Motion Plan Response\n",
      "Empty Motion Plan Response\n",
      "Empty Motion Plan Response\n",
      "Empty Motion Plan Response\n",
      "Empty Motion Plan Response\n",
      "Empty Motion Plan Response\n",
      "Empty Motion Plan Response\n",
      "Empty Motion Plan Response\n",
      "Empty Motion Plan Response\n",
      "Empty Motion Plan Response\n",
      "Empty Motion Plan Response\n",
      "Empty Motion Plan Response\n",
      "Empty Motion Plan Response\n",
      "Empty Motion Plan Response\n",
      "Empty Motion Plan Response\n",
      "Empty Motion Plan Response\n",
      "Empty Motion Plan Response\n",
      "Empty Motion Plan Response\n",
      "Empty Motion Plan Response\n",
      "Empty Motion Plan Response\n",
      "Empty Motion Plan Response\n",
      "Empty Motion Plan Response\n",
      "Empty Motion Plan Response\n",
      "Empty Motion Plan Response\n",
      "Empty Motion Plan Response\n",
      "Empty Motion Plan Response\n",
      "Empty Motion Plan Response\n",
      "Empty Motion Plan Response\n",
      "Empty Motion Plan Response\n",
      "Empty Motion Plan Response\n",
      "Empty Motion Plan Response\n",
      "Empty Motion Plan Response\n",
      "Empty Motion Plan Response\n",
      "Empty Motion Plan Response\n",
      "Empty Motion Plan Response\n",
      "Empty Motion Plan Response\n",
      "Empty Motion Plan Response\n",
      "Empty Motion Plan Response\n",
      "Empty Motion Plan Response\n",
      "Empty Motion Plan Response\n",
      "Empty Motion Plan Response\n",
      "Empty Motion Plan Response\n",
      "Empty Motion Plan Response\n",
      "Empty Motion Plan Response\n",
      "Empty Motion Plan Response\n",
      "Empty Motion Plan Response\n",
      "Empty Motion Plan Response\n",
      "Empty Motion Plan Response\n",
      "Empty Motion Plan Response\n",
      "Empty Motion Plan Response\n",
      "Empty Motion Plan Response\n",
      "Empty Motion Plan Response\n",
      "Empty Motion Plan Response\n",
      "Empty Motion Plan Response\n",
      "Empty Motion Plan Response\n",
      "Empty Motion Plan Response\n",
      "Empty Motion Plan Response\n",
      "Empty Motion Plan Response\n",
      "Empty Motion Plan Response\n",
      "Empty Motion Plan Response\n",
      "Empty Motion Plan Response\n",
      "Empty Motion Plan Response\n",
      "Empty Motion Plan Response\n",
      "Empty Motion Plan Response\n",
      "Empty Motion Plan Response\n",
      "Empty Motion Plan Response\n",
      "Empty Motion Plan Response\n",
      "Empty Motion Plan Response\n",
      "Empty Motion Plan Response\n",
      "Empty Motion Plan Response\n",
      "Empty Motion Plan Response\n",
      "Empty Motion Plan Response\n",
      "Empty Motion Plan Response\n",
      "Empty Motion Plan Response\n",
      "Empty Motion Plan Response\n",
      "Empty Motion Plan Response\n",
      "Empty Motion Plan Response\n",
      "Empty Motion Plan Response\n",
      "Empty Motion Plan Response\n",
      "Empty Motion Plan Response\n",
      "Empty Motion Plan Response\n",
      "Empty Motion Plan Response\n",
      "Empty Motion Plan Response\n",
      "Empty Motion Plan Response\n",
      "Empty Motion Plan Response\n",
      "Empty Motion Plan Response\n",
      "Empty Motion Plan Response\n",
      "Empty Motion Plan Response\n",
      "Empty Motion Plan Response\n",
      "Empty Motion Plan Response\n",
      "Empty Motion Plan Response\n",
      "Empty Motion Plan Response\n",
      "Empty Motion Plan Response\n",
      "Empty Motion Plan Response\n",
      "Empty Motion Plan Response\n",
      "Empty Motion Plan Response\n",
      "Empty Motion Plan Response\n",
      "Empty Motion Plan Response\n",
      "Empty Motion Plan Response\n",
      "Empty Motion Plan Response\n",
      "Empty Motion Plan Response\n",
      "Empty Motion Plan Response\n",
      "Empty Motion Plan Response\n",
      "Empty Motion Plan Response\n",
      "Empty Motion Plan Response\n",
      "Empty Motion Plan Response\n",
      "Empty Motion Plan Response\n",
      "Empty Motion Plan Response\n",
      "Empty Motion Plan Response\n",
      "Empty Motion Plan Response\n",
      "Empty Motion Plan Response\n",
      "Empty Motion Plan Response\n",
      "Empty Motion Plan Response\n",
      "Empty Motion Plan Response\n",
      "Empty Motion Plan Response\n",
      "Empty Motion Plan Response\n",
      "Empty Motion Plan Response\n"
     ]
    },
    {
     "name": "stdout",
     "output_type": "stream",
     "text": [
      "Empty Motion Plan Response\n",
      "Empty Motion Plan Response\n",
      "Empty Motion Plan Response\n",
      "Empty Motion Plan Response\n",
      "Empty Motion Plan Response\n",
      "Empty Motion Plan Response\n",
      "Empty Motion Plan Response\n",
      "Empty Motion Plan Response\n",
      "Empty Motion Plan Response\n",
      "Empty Motion Plan Response\n"
     ]
    }
   ],
   "source": [
    "random_pose_thread = randomPose()\n",
    "random_pose_thread.start()"
   ]
  },
  {
   "cell_type": "code",
   "execution_count": null,
   "id": "751aa2f8",
   "metadata": {},
   "outputs": [],
   "source": []
  },
  {
   "cell_type": "code",
   "execution_count": null,
   "id": "5dc412b3",
   "metadata": {},
   "outputs": [],
   "source": []
  },
  {
   "cell_type": "markdown",
   "id": "630a14b3",
   "metadata": {},
   "source": [
    "**To Be Continued ...**"
   ]
  }
 ],
 "metadata": {
  "kernelspec": {
   "display_name": "Python 3",
   "language": "python",
   "name": "python3"
  },
  "language_info": {
   "codemirror_mode": {
    "name": "ipython",
    "version": 3
   },
   "file_extension": ".py",
   "mimetype": "text/x-python",
   "name": "python",
   "nbconvert_exporter": "python",
   "pygments_lexer": "ipython3",
   "version": "3.8.10"
  }
 },
 "nbformat": 4,
 "nbformat_minor": 5
}
