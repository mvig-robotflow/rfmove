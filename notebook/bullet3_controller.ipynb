{
 "cells": [
  {
   "cell_type": "code",
   "execution_count": 1,
   "id": "75e09002",
   "metadata": {},
   "outputs": [],
   "source": [
    "import pybullet as p\n",
    "import sys\n",
    "sys.path.append(\"../install/lib\")\n",
    "import moveit_noros as moveit\n",
    "import pybullet_data\n",
    "import time\n",
    "import numpy as np\n",
    "import threading"
   ]
  },
  {
   "cell_type": "code",
   "execution_count": 3,
   "id": "a1bd5bbb",
   "metadata": {},
   "outputs": [
    {
     "name": "stdout",
     "output_type": "stream",
     "text": [
      "== Initialize Pybullet == \n"
     ]
    }
   ],
   "source": [
    "print(\"== Initialize Pybullet == \")\n",
    "physicsClient = p.connect(p.GUI_SERVER)\n",
    "#client2 = p.connect(p.SHARED_MEMORY)\n",
    "#cppClient = moveit.Bullet3Hardware(physicsClient)\n",
    "p.setRealTimeSimulation(1)"
   ]
  },
  {
   "cell_type": "code",
   "execution_count": null,
   "id": "9a234877",
   "metadata": {},
   "outputs": [
    {
     "name": "stdout",
     "output_type": "stream",
     "text": [
      "== Initialize moveit ==\n"
     ]
    }
   ],
   "source": [
    "p.setGravity(0,0,-10)\n",
    "p.setAdditionalSearchPath(pybullet_data.getDataPath())\n",
    "planeId = p.loadURDF(\"plane.urdf\")\n",
    "\n",
    "p.setAdditionalSearchPath(\"../resources\")\n",
    "startPos = [0,0,0]\n",
    "startOrientation = p.getQuaternionFromEuler([0, 0, 0])\n",
    "boxId = p.loadURDF(\"pr2.urdf\", startPos, startOrientation, useFixedBase=1)\n",
    "\n",
    "print(\"== Initialize moveit ==\")\n",
    "robot_loader = moveit.createRobotModelLoaderFromFile(\"../resources/pr2.urdf\", \"../resources/pr2_config/pr2.srdf\")\n",
    "kinematic_solver_loader = moveit.createKinematicsLoaderFromFile(\"../resources/pr2_config/kinematics.yaml\")\n",
    "robot_loader.loadKinematicsSolvers(kinematic_solver_loader)\n",
    "robot_model = robot_loader.getModel()\n",
    "\n",
    "bulletHardware = moveit.PybulletHardware(p, boxId)\n"
   ]
  },
  {
   "cell_type": "code",
   "execution_count": null,
   "id": "b67c82d2",
   "metadata": {},
   "outputs": [],
   "source": []
  },
  {
   "cell_type": "code",
   "execution_count": null,
   "id": "9aa82bc9",
   "metadata": {},
   "outputs": [],
   "source": []
  },
  {
   "cell_type": "code",
   "execution_count": null,
   "id": "67c5e51e",
   "metadata": {},
   "outputs": [],
   "source": []
  }
 ],
 "metadata": {
  "kernelspec": {
   "display_name": "Python 3",
   "language": "python",
   "name": "python3"
  },
  "language_info": {
   "codemirror_mode": {
    "name": "ipython",
    "version": 3
   },
   "file_extension": ".py",
   "mimetype": "text/x-python",
   "name": "python",
   "nbconvert_exporter": "python",
   "pygments_lexer": "ipython3",
   "version": "3.8.10"
  }
 },
 "nbformat": 4,
 "nbformat_minor": 5
}
