{
 "cells": [
  {
   "cell_type": "code",
   "execution_count": 1,
   "id": "75e09002",
   "metadata": {},
   "outputs": [],
   "source": [
    "import pybullet as p\n",
    "import sys\n",
    "sys.path.append(\"../install/lib\")\n",
    "import moveit_noros as moveit\n",
    "import pybullet_data\n",
    "import time\n",
    "import numpy as np\n",
    "import threading"
   ]
  },
  {
   "cell_type": "code",
   "execution_count": 2,
   "id": "fdf3b6e5",
   "metadata": {},
   "outputs": [],
   "source": [
    "def getTransform(bulletHardware, planning_scene, link_name):\n",
    "    moveit.syncBulletState(bulletHardware, planning_scene)\n",
    "    return planning_scene.getCurrentStateNonConst().getGlobalLinkTransform(link_name)"
   ]
  },
  {
   "cell_type": "code",
   "execution_count": 3,
   "id": "a1bd5bbb",
   "metadata": {},
   "outputs": [
    {
     "name": "stdout",
     "output_type": "stream",
     "text": [
      "== Initialize Pybullet == \n"
     ]
    }
   ],
   "source": [
    "print(\"== Initialize Pybullet == \")\n",
    "p.connect(p.GUI_SERVER)\n",
    "p.setRealTimeSimulation(1)"
   ]
  },
  {
   "cell_type": "code",
   "execution_count": 4,
   "id": "9a234877",
   "metadata": {},
   "outputs": [
    {
     "name": "stdout",
     "output_type": "stream",
     "text": [
      "== Initialize moveit ==\n"
     ]
    }
   ],
   "source": [
    "p.setGravity(0,0,-10)\n",
    "p.setAdditionalSearchPath(pybullet_data.getDataPath())\n",
    "planeId = p.loadURDF(\"plane.urdf\")\n",
    "\n",
    "p.setAdditionalSearchPath(\"../resources\")\n",
    "startPos = [0,0,0]\n",
    "startOrientation = p.getQuaternionFromEuler([0, 0, 0])\n",
    "boxId = p.loadURDF(\"pr2.urdf\", startPos, startOrientation, useFixedBase=1)\n",
    "\n",
    "print(\"== Initialize moveit ==\")\n",
    "robot_loader = moveit.createRobotModelLoaderFromFile(\"../resources/pr2.urdf\", \"../resources/pr2_config/pr2.srdf\")\n",
    "kinematic_solver_loader = moveit.createKinematicsLoaderFromFile(\"../resources/pr2_config/kinematics.yaml\")\n",
    "robot_loader.loadKinematicsSolvers(kinematic_solver_loader)\n",
    "robot_model = robot_loader.getModel()\n",
    "\n",
    "pconfig = moveit.createPlannerConfigurationFromFile(\"../resources/pr2_config/ompl_planning.yaml\")\n",
    "planner = moveit.PlannerManager(robot_model, pconfig)\n",
    "\n",
    "bullet_hardware = moveit.PybulletHardware(p, boxId)\n",
    "planning_scene = robot_loader.newPlanningScene()\n",
    "scene_helper = moveit.PlanningSceneHelper(bullet_hardware, planning_scene)\n",
    "\n",
    "# set robot_state to default value defined in srdf\n",
    "planning_scene.getCurrentStateNonConst().setToDefaultValues()\n",
    "\n",
    "# resync() will set the robot position in pybullet the same as moveit\n",
    "# This is very important because "
   ]
  },
  {
   "cell_type": "code",
   "execution_count": 5,
   "id": "1aede4ae",
   "metadata": {},
   "outputs": [],
   "source": [
    "PLANNING_GROUP = \"left_arm\"\n",
    "joint_model_group = robot_model.getJointModelGroup(PLANNING_GROUP)\n",
    "\n",
    "base_link = joint_model_group.base_link\n",
    "tip_link = joint_model_group.tip_link"
   ]
  },
  {
   "cell_type": "code",
   "execution_count": 6,
   "id": "d36683f4",
   "metadata": {},
   "outputs": [],
   "source": []
  },
  {
   "cell_type": "code",
   "execution_count": 7,
   "id": "1e01e812",
   "metadata": {},
   "outputs": [],
   "source": [
    "scene_helper.resync()"
   ]
  },
  {
   "cell_type": "code",
   "execution_count": 8,
   "id": "3f32da83",
   "metadata": {},
   "outputs": [],
   "source": [
    "planning_scene.getCurrentStateNonConst().update()"
   ]
  },
  {
   "cell_type": "code",
   "execution_count": 8,
   "id": "ccc65b58",
   "metadata": {},
   "outputs": [
    {
     "ename": "NameError",
     "evalue": "name 'tip_frame' is not defined",
     "output_type": "error",
     "traceback": [
      "\u001b[0;31m---------------------------------------------------------------------------\u001b[0m",
      "\u001b[0;31mNameError\u001b[0m                                 Traceback (most recent call last)",
      "\u001b[0;32m<ipython-input-8-3d728ca3c3ab>\u001b[0m in \u001b[0;36m<module>\u001b[0;34m\u001b[0m\n\u001b[0;32m----> 1\u001b[0;31m \u001b[0mtip_frame\u001b[0m\u001b[0;34m\u001b[0m\u001b[0;34m\u001b[0m\u001b[0m\n\u001b[0m",
      "\u001b[0;31mNameError\u001b[0m: name 'tip_frame' is not defined"
     ]
    }
   ],
   "source": [
    "tip_frame"
   ]
  },
  {
   "cell_type": "code",
   "execution_count": 9,
   "id": "91df074c",
   "metadata": {},
   "outputs": [],
   "source": [
    "link_transform = scene_helper.linkTransform(tip_link)\n",
    "base_transform = scene_helper.linkTransform(base_link, False)\n",
    "relative_transform = scene_helper.linkRelativeTransform(tip_link, base_link, False)"
   ]
  },
  {
   "cell_type": "code",
   "execution_count": 10,
   "id": "a58e5b5c",
   "metadata": {},
   "outputs": [],
   "source": [
    "bullet_controller = moveit.Controller(bullet_hardware, 0.01)"
   ]
  },
  {
   "cell_type": "code",
   "execution_count": 19,
   "id": "014886e7",
   "metadata": {},
   "outputs": [],
   "source": [
    "scene_helper.sync()"
   ]
  },
  {
   "cell_type": "code",
   "execution_count": 12,
   "id": "6447fde9",
   "metadata": {},
   "outputs": [],
   "source": [
    "bullet_hardware.free()"
   ]
  },
  {
   "cell_type": "code",
   "execution_count": 13,
   "id": "17345462",
   "metadata": {},
   "outputs": [],
   "source": [
    "bullet_hardware.stayCurrent()"
   ]
  },
  {
   "cell_type": "code",
   "execution_count": 1,
   "id": "c6593a49",
   "metadata": {},
   "outputs": [
    {
     "ename": "NameError",
     "evalue": "name 'req' is not defined",
     "output_type": "error",
     "traceback": [
      "\u001b[0;31m---------------------------------------------------------------------------\u001b[0m",
      "\u001b[0;31mNameError\u001b[0m                                 Traceback (most recent call last)",
      "\u001b[0;32m<ipython-input-1-08e3c2863a46>\u001b[0m in \u001b[0;36m<module>\u001b[0;34m\u001b[0m\n\u001b[0;32m----> 1\u001b[0;31m \u001b[0mreq\u001b[0m\u001b[0;34m\u001b[0m\u001b[0;34m\u001b[0m\u001b[0m\n\u001b[0m",
      "\u001b[0;31mNameError\u001b[0m: name 'req' is not defined"
     ]
    }
   ],
   "source": [
    "req"
   ]
  },
  {
   "cell_type": "code",
   "execution_count": null,
   "id": "58803d37",
   "metadata": {},
   "outputs": [],
   "source": [
    "relative_transform"
   ]
  },
  {
   "cell_type": "code",
   "execution_count": null,
   "id": "7a6c1513",
   "metadata": {},
   "outputs": [],
   "source": [
    "base_transform.inverse * link_transform"
   ]
  },
  {
   "cell_type": "code",
   "execution_count": 11,
   "id": "cc5b330e",
   "metadata": {},
   "outputs": [],
   "source": [
    "req = moveit.MotionPlanRequest(PLANNING_GROUP)\n",
    "pose = moveit.PoseStamped(base_link, relative_transform.translation, relative_transform.quaternion.value)\n",
    "pose_goal = moveit.constructGoalConstraints(tip_link, pose, 0.01, 0.01)\n",
    "req.addGoal(pose_goal)"
   ]
  },
  {
   "cell_type": "code",
   "execution_count": 12,
   "id": "106356a7",
   "metadata": {},
   "outputs": [],
   "source": [
    "context = planner.getPlanningContext(planning_scene, req)\n"
   ]
  },
  {
   "cell_type": "code",
   "execution_count": 13,
   "id": "66b37659",
   "metadata": {},
   "outputs": [],
   "source": [
    "response = context.solve()\n"
   ]
  },
  {
   "cell_type": "code",
   "execution_count": 14,
   "id": "1657a1c0",
   "metadata": {},
   "outputs": [
    {
     "data": {
      "text/plain": [
       "<moveit_noros.RobotTrajectory at 0x7fea0920e570>"
      ]
     },
     "execution_count": 14,
     "metadata": {},
     "output_type": "execute_result"
    }
   ],
   "source": [
    "response.trajectory"
   ]
  },
  {
   "cell_type": "code",
   "execution_count": 15,
   "id": "b9704bc9",
   "metadata": {},
   "outputs": [
    {
     "ename": "NameError",
     "evalue": "name 'spline' is not defined",
     "output_type": "error",
     "traceback": [
      "\u001b[0;31m---------------------------------------------------------------------------\u001b[0m",
      "\u001b[0;31mNameError\u001b[0m                                 Traceback (most recent call last)",
      "\u001b[0;32m<ipython-input-15-8a0933493b39>\u001b[0m in \u001b[0;36m<module>\u001b[0;34m\u001b[0m\n\u001b[0;32m----> 1\u001b[0;31m \u001b[0;32mfor\u001b[0m \u001b[0mi\u001b[0m \u001b[0;32min\u001b[0m \u001b[0mrange\u001b[0m\u001b[0;34m(\u001b[0m\u001b[0mlen\u001b[0m\u001b[0;34m(\u001b[0m\u001b[0mspline\u001b[0m\u001b[0;34m.\u001b[0m\u001b[0mtip_transforms\u001b[0m\u001b[0;34m)\u001b[0m\u001b[0;34m-\u001b[0m\u001b[0;36m1\u001b[0m\u001b[0;34m)\u001b[0m\u001b[0;34m:\u001b[0m\u001b[0;34m\u001b[0m\u001b[0;34m\u001b[0m\u001b[0m\n\u001b[0m\u001b[1;32m      2\u001b[0m     \u001b[0mp\u001b[0m\u001b[0;34m.\u001b[0m\u001b[0maddUserDebugLine\u001b[0m\u001b[0;34m(\u001b[0m\u001b[0mspline\u001b[0m\u001b[0;34m.\u001b[0m\u001b[0mtip_transforms\u001b[0m\u001b[0;34m[\u001b[0m\u001b[0mi\u001b[0m\u001b[0;34m]\u001b[0m\u001b[0;34m.\u001b[0m\u001b[0mtranslation\u001b[0m\u001b[0;34m,\u001b[0m \u001b[0mspline\u001b[0m\u001b[0;34m.\u001b[0m\u001b[0mtip_transforms\u001b[0m\u001b[0;34m[\u001b[0m\u001b[0mi\u001b[0m\u001b[0;34m+\u001b[0m\u001b[0;36m1\u001b[0m\u001b[0;34m]\u001b[0m\u001b[0;34m.\u001b[0m\u001b[0mtranslation\u001b[0m\u001b[0;34m)\u001b[0m\u001b[0;34m\u001b[0m\u001b[0;34m\u001b[0m\u001b[0m\n",
      "\u001b[0;31mNameError\u001b[0m: name 'spline' is not defined"
     ]
    }
   ],
   "source": [
    "for i in range(len(spline.tip_transforms)-1):\n",
    "    p.addUserDebugLine(spline.tip_transforms[i].translation, spline.tip_transforms[i+1].translation)"
   ]
  },
  {
   "cell_type": "code",
   "execution_count": null,
   "id": "8782d4e3",
   "metadata": {},
   "outputs": [],
   "source": []
  },
  {
   "cell_type": "code",
   "execution_count": null,
   "id": "6f382259",
   "metadata": {},
   "outputs": [],
   "source": []
  },
  {
   "cell_type": "code",
   "execution_count": null,
   "id": "31f62a4b",
   "metadata": {},
   "outputs": [],
   "source": [
    "p.addUserDebugLine(np.array([0.629203, 0.142431, 0.705641]), np.array([0.562863, 0.367344, 1.18433]), [1,0,0], 5)"
   ]
  },
  {
   "cell_type": "code",
   "execution_count": null,
   "id": "b67c82d2",
   "metadata": {},
   "outputs": [],
   "source": [
    "transform"
   ]
  },
  {
   "cell_type": "code",
   "execution_count": null,
   "id": "9aa82bc9",
   "metadata": {},
   "outputs": [],
   "source": [
    "transform.quaternion"
   ]
  },
  {
   "cell_type": "code",
   "execution_count": null,
   "id": "25992fd7",
   "metadata": {},
   "outputs": [],
   "source": [
    "transform.quaternion.value"
   ]
  },
  {
   "cell_type": "code",
   "execution_count": null,
   "id": "01f12915",
   "metadata": {},
   "outputs": [],
   "source": [
    "transform.quaternion.matrix"
   ]
  },
  {
   "cell_type": "code",
   "execution_count": null,
   "id": "67c5e51e",
   "metadata": {},
   "outputs": [],
   "source": [
    "base_frame"
   ]
  },
  {
   "cell_type": "code",
   "execution_count": null,
   "id": "401b5de7",
   "metadata": {},
   "outputs": [],
   "source": [
    "transform.quaternion[0]"
   ]
  },
  {
   "cell_type": "code",
   "execution_count": null,
   "id": "5c1ad5ca",
   "metadata": {},
   "outputs": [],
   "source": []
  },
  {
   "cell_type": "code",
   "execution_count": null,
   "id": "6b163329",
   "metadata": {},
   "outputs": [],
   "source": [
    "robot_model.getJointModelGroup"
   ]
  },
  {
   "cell_type": "code",
   "execution_count": null,
   "id": "dca8409f",
   "metadata": {},
   "outputs": [],
   "source": [
    "moveit.createKinematicsLoaderFromFile"
   ]
  },
  {
   "cell_type": "code",
   "execution_count": null,
   "id": "952408ac",
   "metadata": {},
   "outputs": [],
   "source": []
  }
 ],
 "metadata": {
  "kernelspec": {
   "display_name": "Python 3",
   "language": "python",
   "name": "python3"
  },
  "language_info": {
   "codemirror_mode": {
    "name": "ipython",
    "version": 3
   },
   "file_extension": ".py",
   "mimetype": "text/x-python",
   "name": "python",
   "nbconvert_exporter": "python",
   "pygments_lexer": "ipython3",
   "version": "3.8.10"
  }
 },
 "nbformat": 4,
 "nbformat_minor": 5
}
