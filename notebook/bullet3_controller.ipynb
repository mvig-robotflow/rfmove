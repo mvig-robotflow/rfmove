{
 "cells": [
  {
   "cell_type": "code",
   "execution_count": 1,
   "id": "75e09002",
   "metadata": {},
   "outputs": [],
   "source": [
    "import pybullet as p\n",
    "import sys\n",
    "sys.path.append(\"../install/lib\")\n",
    "import moveit_noros as moveit\n",
    "import pybullet_data\n",
    "import time\n",
    "import numpy as np\n",
    "import threading"
   ]
  },
  {
   "cell_type": "code",
   "execution_count": 2,
   "id": "534c43e8",
   "metadata": {},
   "outputs": [],
   "source": [
    "def getTransform(bulletHardware, planning_scene, link_name):\n",
    "    moveit.syncBulletState(bulletHardware, planning_scene)\n",
    "    return planning_scene.getCurrentStateNonConst().getGlobalLinkTransform(link_name)"
   ]
  },
  {
   "cell_type": "code",
   "execution_count": 3,
   "id": "a1bd5bbb",
   "metadata": {},
   "outputs": [
    {
     "name": "stdout",
     "output_type": "stream",
     "text": [
      "== Initialize Pybullet == \n"
     ]
    }
   ],
   "source": [
    "print(\"== Initialize Pybullet == \")\n",
    "p.connect(p.GUI_SERVER)\n",
    "p.setRealTimeSimulation(1)"
   ]
  },
  {
   "cell_type": "code",
   "execution_count": 4,
   "id": "9a234877",
   "metadata": {},
   "outputs": [
    {
     "name": "stdout",
     "output_type": "stream",
     "text": [
      "== Initialize moveit ==\n"
     ]
    }
   ],
   "source": [
    "p.setGravity(0,0,-10)\n",
    "p.setAdditionalSearchPath(pybullet_data.getDataPath())\n",
    "planeId = p.loadURDF(\"plane.urdf\")\n",
    "\n",
    "p.setAdditionalSearchPath(\"../resources\")\n",
    "startPos = [0,0,0]\n",
    "startOrientation = p.getQuaternionFromEuler([0, 0, 0])\n",
    "boxId = p.loadURDF(\"pr2.urdf\", startPos, startOrientation, useFixedBase=1)\n",
    "\n",
    "print(\"== Initialize moveit ==\")\n",
    "robot_loader = moveit.createRobotModelLoaderFromFile(\"../resources/pr2.urdf\", \"../resources/pr2_config/pr2.srdf\")\n",
    "kinematic_solver_loader = moveit.createKinematicsLoaderFromFile(\"../resources/pr2_config/kinematics.yaml\")\n",
    "robot_loader.loadKinematicsSolvers(kinematic_solver_loader)\n",
    "robot_model = robot_loader.getModel()\n",
    "\n",
    "pconfig = moveit.createPlannerConfigurationFromFile(\"../resources/pr2_config/ompl_planning.yaml\")\n",
    "planner = moveit.PlannerManager(robot_model, pconfig)\n",
    "\n",
    "bullet_hardware = moveit.PybulletHardware(p, boxId)\n",
    "planning_scene = robot_loader.newPlanningScene()\n",
    "scene_helper = moveit.PlanningSceneHelper(bullet_hardware, planning_scene)"
   ]
  },
  {
   "cell_type": "code",
   "execution_count": 5,
   "id": "7a363bd4",
   "metadata": {},
   "outputs": [],
   "source": [
    "PLANNING_GROUP = \"left_arm\"\n",
    "joint_model_group = robot_model.getJointModelGroup(PLANNING_GROUP)\n",
    "\n",
    "base_frame = joint_model_group.base_frame\n",
    "tip_frame = joint_model_group.tip_frame"
   ]
  },
  {
   "cell_type": "code",
   "execution_count": 7,
   "id": "60a841a3",
   "metadata": {},
   "outputs": [],
   "source": [
    "link_transform = scene_helper.linkTransform(tip_frame)\n",
    "base_transform = scene_helper.linkTransform(base_frame, False)\n",
    "relative_transform = scene_helper.linkRelativeTransform(tip_frame, base_frame, False)"
   ]
  },
  {
   "cell_type": "code",
   "execution_count": 8,
   "id": "98d7daa3",
   "metadata": {},
   "outputs": [
    {
     "data": {
      "text/plain": [
       "<EigenAffine3d from Eigen::Affine3d>\n",
       "Translation:\n",
       "0.759038\n",
       "0.193049\n",
       "0.659922\n",
       "Rotation:\n",
       "  0.983404  0.0668989   0.168643\n",
       "0.00613946   0.916731  -0.399458\n",
       " -0.181324   0.393864   0.901107"
      ]
     },
     "execution_count": 8,
     "metadata": {},
     "output_type": "execute_result"
    }
   ],
   "source": [
    "link_transform"
   ]
  },
  {
   "cell_type": "code",
   "execution_count": 9,
   "id": "4b5f7081",
   "metadata": {},
   "outputs": [
    {
     "data": {
      "text/plain": [
       "<EigenAffine3d from Eigen::Affine3d>\n",
       "Translation:\n",
       "   -0.05\n",
       "       0\n",
       "0.790628\n",
       "Rotation:\n",
       "1 0 0\n",
       "0 1 0\n",
       "0 0 1"
      ]
     },
     "execution_count": 9,
     "metadata": {},
     "output_type": "execute_result"
    }
   ],
   "source": [
    "base_transform"
   ]
  },
  {
   "cell_type": "code",
   "execution_count": 10,
   "id": "2e8ed9e4",
   "metadata": {},
   "outputs": [
    {
     "data": {
      "text/plain": [
       "<EigenAffine3d from Eigen::Affine3d>\n",
       "Translation:\n",
       " 0.809038\n",
       " 0.193049\n",
       "-0.130705\n",
       "Rotation:\n",
       "  0.983404  0.0668989   0.168643\n",
       "0.00613946   0.916731  -0.399458\n",
       " -0.181324   0.393864   0.901107"
      ]
     },
     "execution_count": 10,
     "metadata": {},
     "output_type": "execute_result"
    }
   ],
   "source": [
    "relative_transform"
   ]
  },
  {
   "cell_type": "code",
   "execution_count": 12,
   "id": "a1ca0515",
   "metadata": {},
   "outputs": [
    {
     "data": {
      "text/plain": [
       "<EigenAffine3d from Eigen::Affine3d>\n",
       "Translation:\n",
       " 0.809038\n",
       " 0.193049\n",
       "-0.130705\n",
       "Rotation:\n",
       "  0.983404  0.0668989   0.168643\n",
       "0.00613946   0.916731  -0.399458\n",
       " -0.181324   0.393864   0.901107"
      ]
     },
     "execution_count": 12,
     "metadata": {},
     "output_type": "execute_result"
    }
   ],
   "source": [
    "base_transform.inverse * link_transform"
   ]
  },
  {
   "cell_type": "code",
   "execution_count": 11,
   "id": "182450b7",
   "metadata": {},
   "outputs": [],
   "source": [
    "req = moveit.MotionPlanRequest(PLANNING_GROUP)\n",
    "pose = moveit.PoseStamped(base_frame, end_transform.translation, end_transform.quaternion.value)\n",
    "pose_goal = moveit.constructGoalConstraints(tip_link, pose, 0.01, 0.01)\n",
    "req.addGoal(pose_goal)"
   ]
  },
  {
   "cell_type": "code",
   "execution_count": 12,
   "id": "37bf2035",
   "metadata": {},
   "outputs": [
    {
     "ename": "AttributeError",
     "evalue": "'NoneType' object has no attribute 'computeTimeStamps'",
     "output_type": "error",
     "traceback": [
      "\u001b[0;31m---------------------------------------------------------------------------\u001b[0m",
      "\u001b[0;31mAttributeError\u001b[0m                            Traceback (most recent call last)",
      "\u001b[0;32m<ipython-input-12-0bded5fc296e>\u001b[0m in \u001b[0;36m<module>\u001b[0;34m\u001b[0m\n\u001b[1;32m      1\u001b[0m \u001b[0mcontext\u001b[0m \u001b[0;34m=\u001b[0m \u001b[0mplanner\u001b[0m\u001b[0;34m.\u001b[0m\u001b[0mgetPlanningContext\u001b[0m\u001b[0;34m(\u001b[0m\u001b[0mplanning_scene\u001b[0m\u001b[0;34m,\u001b[0m \u001b[0mreq\u001b[0m\u001b[0;34m)\u001b[0m\u001b[0;34m\u001b[0m\u001b[0;34m\u001b[0m\u001b[0m\n\u001b[1;32m      2\u001b[0m \u001b[0mresponse\u001b[0m \u001b[0;34m=\u001b[0m \u001b[0mcontext\u001b[0m\u001b[0;34m.\u001b[0m\u001b[0msolve\u001b[0m\u001b[0;34m(\u001b[0m\u001b[0;34m)\u001b[0m\u001b[0;34m\u001b[0m\u001b[0;34m\u001b[0m\u001b[0m\n\u001b[0;32m----> 3\u001b[0;31m \u001b[0mresponse\u001b[0m\u001b[0;34m.\u001b[0m\u001b[0mtrajectory\u001b[0m\u001b[0;34m.\u001b[0m\u001b[0mcomputeTimeStamps\u001b[0m\u001b[0;34m(\u001b[0m\u001b[0;34m)\u001b[0m\u001b[0;34m\u001b[0m\u001b[0;34m\u001b[0m\u001b[0m\n\u001b[0m",
      "\u001b[0;31mAttributeError\u001b[0m: 'NoneType' object has no attribute 'computeTimeStamps'"
     ]
    }
   ],
   "source": [
    "context = planner.getPlanningContext(planning_scene, req)\n",
    "response = context.solve()\n",
    "response.trajectory.computeTimeStamps()"
   ]
  },
  {
   "cell_type": "code",
   "execution_count": 13,
   "id": "64dbc18d",
   "metadata": {},
   "outputs": [
    {
     "data": {
      "text/plain": [
       "array([0.6259753 , 0.17461295, 1.1247314 ])"
      ]
     },
     "execution_count": 13,
     "metadata": {},
     "output_type": "execute_result"
    }
   ],
   "source": [
    "end_transform.translation"
   ]
  },
  {
   "cell_type": "code",
   "execution_count": 10,
   "id": "8599bf84",
   "metadata": {},
   "outputs": [],
   "source": [
    "spline = moveit.computeSpline(response.trajectory)"
   ]
  },
  {
   "cell_type": "code",
   "execution_count": 16,
   "id": "3638548a",
   "metadata": {},
   "outputs": [],
   "source": [
    "for i in range(len(spline.tip_transforms)-1):\n",
    "    p.addUserDebugLine(spline.tip_transforms[i].translation, spline.tip_transforms[i+1].translation)"
   ]
  },
  {
   "cell_type": "code",
   "execution_count": 8,
   "id": "c94d0552",
   "metadata": {},
   "outputs": [],
   "source": []
  },
  {
   "cell_type": "code",
   "execution_count": 9,
   "id": "0530418a",
   "metadata": {},
   "outputs": [],
   "source": []
  },
  {
   "cell_type": "code",
   "execution_count": 21,
   "id": "f62278ee",
   "metadata": {},
   "outputs": [
    {
     "data": {
      "text/plain": [
       "36"
      ]
     },
     "execution_count": 21,
     "metadata": {},
     "output_type": "execute_result"
    }
   ],
   "source": [
    "p.addUserDebugLine(np.array([0.629203, 0.142431, 0.705641]), np.array([0.562863, 0.367344, 1.18433]), [1,0,0], 5)"
   ]
  },
  {
   "cell_type": "code",
   "execution_count": 12,
   "id": "b67c82d2",
   "metadata": {},
   "outputs": [
    {
     "data": {
      "text/plain": [
       "<EigenAffine3d from Eigen::Affine3d>\n",
       "Translation:\n",
       "0.626821\n",
       "0.222088\n",
       " 1.19892\n",
       "Rotation:\n",
       "   0.67486  -0.642299   -0.36334\n",
       "0.00100742   0.493169  -0.869933\n",
       "  0.737945   0.586717   0.333467"
      ]
     },
     "execution_count": 12,
     "metadata": {},
     "output_type": "execute_result"
    }
   ],
   "source": [
    "transform"
   ]
  },
  {
   "cell_type": "code",
   "execution_count": 13,
   "id": "9aa82bc9",
   "metadata": {},
   "outputs": [
    {
     "data": {
      "text/plain": [
       "<Eigen::Quaterniond at 0x560edd06d390>\n",
       "[ 0.460495, -0.348153, 0.20337, 0.790806]"
      ]
     },
     "execution_count": 13,
     "metadata": {},
     "output_type": "execute_result"
    }
   ],
   "source": [
    "transform.quaternion"
   ]
  },
  {
   "cell_type": "code",
   "execution_count": 14,
   "id": "b37fa6f3",
   "metadata": {},
   "outputs": [
    {
     "data": {
      "text/plain": [
       "array([ 0.46049543, -0.34815289,  0.20337041,  0.79080592])"
      ]
     },
     "execution_count": 14,
     "metadata": {},
     "output_type": "execute_result"
    }
   ],
   "source": [
    "transform.quaternion.value"
   ]
  },
  {
   "cell_type": "code",
   "execution_count": 15,
   "id": "6ed13356",
   "metadata": {},
   "outputs": [
    {
     "data": {
      "text/plain": [
       "array([[ 0.67486009, -0.64229867, -0.36334045],\n",
       "       [ 0.00100742,  0.49316888, -0.86993301],\n",
       "       [ 0.73794502,  0.58671703,  0.33346705]])"
      ]
     },
     "execution_count": 15,
     "metadata": {},
     "output_type": "execute_result"
    }
   ],
   "source": [
    "transform.quaternion.matrix"
   ]
  },
  {
   "cell_type": "code",
   "execution_count": 17,
   "id": "67c5e51e",
   "metadata": {},
   "outputs": [
    {
     "data": {
      "text/plain": [
       "'/odom_combined'"
      ]
     },
     "execution_count": 17,
     "metadata": {},
     "output_type": "execute_result"
    }
   ],
   "source": [
    "base_frame"
   ]
  },
  {
   "cell_type": "code",
   "execution_count": 11,
   "id": "98ac4d1f",
   "metadata": {},
   "outputs": [
    {
     "ename": "TypeError",
     "evalue": "'moveit_noros.EigenQuaterniond' object is not subscriptable",
     "output_type": "error",
     "traceback": [
      "\u001b[0;31m---------------------------------------------------------------------------\u001b[0m",
      "\u001b[0;31mTypeError\u001b[0m                                 Traceback (most recent call last)",
      "\u001b[0;32m<ipython-input-11-c91025341492>\u001b[0m in \u001b[0;36m<module>\u001b[0;34m\u001b[0m\n\u001b[0;32m----> 1\u001b[0;31m \u001b[0mtransform\u001b[0m\u001b[0;34m.\u001b[0m\u001b[0mquaternion\u001b[0m\u001b[0;34m[\u001b[0m\u001b[0;36m0\u001b[0m\u001b[0;34m]\u001b[0m\u001b[0;34m\u001b[0m\u001b[0;34m\u001b[0m\u001b[0m\n\u001b[0m",
      "\u001b[0;31mTypeError\u001b[0m: 'moveit_noros.EigenQuaterniond' object is not subscriptable"
     ]
    }
   ],
   "source": [
    "transform.quaternion[0]"
   ]
  },
  {
   "cell_type": "code",
   "execution_count": null,
   "id": "e89c7b2b",
   "metadata": {},
   "outputs": [],
   "source": []
  },
  {
   "cell_type": "code",
   "execution_count": 11,
   "id": "163a97b0",
   "metadata": {},
   "outputs": [
    {
     "data": {
      "text/plain": [
       "<bound method PyCapsule.getJointModelGroup of <moveit_noros.RobotModel object at 0x7f6292ae1630>>"
      ]
     },
     "execution_count": 11,
     "metadata": {},
     "output_type": "execute_result"
    }
   ],
   "source": [
    "robot_model.getJointModelGroup"
   ]
  },
  {
   "cell_type": "code",
   "execution_count": 12,
   "id": "69a59820",
   "metadata": {},
   "outputs": [
    {
     "data": {
      "text/plain": [
       "<function moveit_noros.PyCapsule.createKinematicsLoaderFromFile>"
      ]
     },
     "execution_count": 12,
     "metadata": {},
     "output_type": "execute_result"
    }
   ],
   "source": [
    "moveit.createKinematicsLoaderFromFile"
   ]
  },
  {
   "cell_type": "code",
   "execution_count": null,
   "id": "021a8ff4",
   "metadata": {},
   "outputs": [],
   "source": []
  }
 ],
 "metadata": {
  "kernelspec": {
   "display_name": "Python 3",
   "language": "python",
   "name": "python3"
  },
  "language_info": {
   "codemirror_mode": {
    "name": "ipython",
    "version": 3
   },
   "file_extension": ".py",
   "mimetype": "text/x-python",
   "name": "python",
   "nbconvert_exporter": "python",
   "pygments_lexer": "ipython3",
   "version": "3.8.10"
  }
 },
 "nbformat": 4,
 "nbformat_minor": 5
}
